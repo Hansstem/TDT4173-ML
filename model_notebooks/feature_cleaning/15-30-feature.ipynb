{
 "cells": [
  {
   "cell_type": "code",
   "execution_count": 1,
   "metadata": {},
   "outputs": [],
   "source": [
    "import pandas as pd\n",
    "import numpy as np"
   ]
  },
  {
   "cell_type": "code",
   "execution_count": 3,
   "metadata": {},
   "outputs": [],
   "source": [
    "import sys\n",
    " \n",
    "# appending a path\n",
    "sys.path.append('../data_func/')\n",
    "import read_data\n",
    "dataframes = read_data.get_training_data()\n",
    "X_frames_train = dataframes[0]\n",
    "Y_frames_train = dataframes[1]\n",
    "X_frames_test = read_data.get_test_data()"
   ]
  },
  {
   "cell_type": "code",
   "execution_count": 4,
   "metadata": {},
   "outputs": [],
   "source": [
    "XA=X_frames_train[0]\n",
    "XB=X_frames_train[1]\n",
    "XC=X_frames_train[2]"
   ]
  },
  {
   "cell_type": "markdown",
   "metadata": {},
   "source": [
    "## A\n",
    "\n",
    "### Fresh Snow\n",
    "For A-settet virker det som om man kan neglisjere mye av snø data. Spesielt alle fresh snow kan man vurdere om man trenger alle målepunktene. I sammenheng med Y-dataen ser det ikke ut som om Fresh snow har så mye påvirkning på svingningen. Vurdere å droppe alle med unntak av siste 12 og siste time. \n",
    "\n",
    "### Binære is-day og in-shadow\n",
    "Ingen åpenbare feil med disse. Behold begge som de er\n",
    "\n",
    "### *pressure\n",
    "Her virker det som om at samme kurve følges over alle pressure målinger med små variasjoner. Tror vi kan fjerne så å si alle unntatt en og samtidig beholde betydningen av pressure. Eventuelt bruke snittet av disse kollonene. \n",
    "\n",
    "### Nedbør precipitation\n",
    "Her bør vi one-hot encode precip_type. Precipitation er siste 5min mulig den er overkill / underkill? Kanskje en merge mellom one-hot encoding kan være et svar? \n",
    "    -> tenk videre på dette\n",
    "\n",
    "### Rainwater kgm\n",
    "I sammenheng så kan denne bli misvisendeda den kun er aktiv under regnvær, mens precip er under alle typer nedbør. Vet ikke helt hvordan man børe / kan relatere, Blir kanskje overkill dette også. \n",
    "\n",
    "### Relative humidity\n",
    "Ser fin ut\n",
    "\n",
    "## B \n",
    "Samme som A, NB mange gaps i Y\n",
    "\n",
    "## C \n",
    "Mangler Y på starten. Mye mer nedbør for lokasjon C som helhet. "
   ]
  },
  {
   "cell_type": "markdown",
   "metadata": {},
   "source": [
    "# OTHER STUFF\n",
    "\n",
    "Fant et hull i XA: \n",
    "\n",
    "1|2\n",
    "---|---\n",
    "![1](./img/datahole1_2.png) | ![2](./img/datahole1_1.png)"
   ]
  }
 ],
 "metadata": {
  "kernelspec": {
   "display_name": "venv",
   "language": "python",
   "name": "python3"
  },
  "language_info": {
   "codemirror_mode": {
    "name": "ipython",
    "version": 3
   },
   "file_extension": ".py",
   "mimetype": "text/x-python",
   "name": "python",
   "nbconvert_exporter": "python",
   "pygments_lexer": "ipython3",
   "version": "3.9.16"
  }
 },
 "nbformat": 4,
 "nbformat_minor": 2
}
