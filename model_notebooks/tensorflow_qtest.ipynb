{
 "cells": [
  {
   "cell_type": "markdown",
   "metadata": {},
   "source": [
    "# Imports"
   ]
  },
  {
   "cell_type": "code",
   "execution_count": 1,
   "metadata": {},
   "outputs": [],
   "source": [
    "\n",
    "import pandas as pd\n",
    "import numpy as np\n",
    "import tensorflow as tf"
   ]
  },
  {
   "cell_type": "markdown",
   "metadata": {},
   "source": [
    "# Load datasets"
   ]
  },
  {
   "cell_type": "code",
   "execution_count": 2,
   "metadata": {},
   "outputs": [],
   "source": [
    "X_train_estimated_a = pd.read_parquet('../data/A/X_train_estimated.parquet')\n",
    "X_train_estimated_b = pd.read_parquet('../data/B/X_train_estimated.parquet')\n",
    "X_train_estimated_c = pd.read_parquet('../data/C/X_train_estimated.parquet')\n",
    "\n",
    "X_train_observed_a = pd.read_parquet('../data/A/X_train_observed.parquet')\n",
    "X_train_observed_b = pd.read_parquet('../data/B/X_train_observed.parquet')\n",
    "X_train_observed_c = pd.read_parquet('../data/C/X_train_observed.parquet')\n",
    "\n",
    "X_test_estimated_a = pd.read_parquet('../data/A/X_test_estimated.parquet')\n",
    "X_test_estimated_b = pd.read_parquet('../data/B/X_test_estimated.parquet')\n",
    "X_test_estimated_c = pd.read_parquet('../data/C/X_test_estimated.parquet')\n",
    "\n",
    "train_targets_a = pd.read_parquet('../data/A/train_targets.parquet')\n",
    "train_targets_b = pd.read_parquet('../data/B/train_targets.parquet')\n",
    "train_targets_c = pd.read_parquet('../data/C/train_targets.parquet')"
   ]
  },
  {
   "cell_type": "markdown",
   "metadata": {},
   "source": [
    "# Data clean up"
   ]
  },
  {
   "cell_type": "markdown",
   "metadata": {},
   "source": [
    "researching which columns have the most null values. "
   ]
  },
  {
   "cell_type": "code",
   "execution_count": 3,
   "metadata": {},
   "outputs": [
    {
     "name": "stdout",
     "output_type": "stream",
     "text": [
      "Column: ceiling_height_agl:m has 3919 NULL values\n",
      "Column: cloud_base_agl:m has 2094 NULL values\n",
      "Column: snow_density:kgm3 has 15769 NULL values\n",
      "Column: ceiling_height_agl:m has 22247 NULL values\n",
      "Column: cloud_base_agl:m has 8066 NULL values\n",
      "Column: snow_density:kgm3 has 115945 NULL values\n"
     ]
    }
   ],
   "source": [
    "for column in X_train_estimated_a.columns:\n",
    "    null_c =  X_train_estimated_a[column].isna().sum()\n",
    "    if null_c > 0: \n",
    "        print(f'Column: {column} has {null_c} NULL values')\n",
    "\n",
    "for column in X_train_observed_a.columns:\n",
    "    null_c = X_train_observed_a[column].isna().sum()\n",
    "    if null_c > 0: \n",
    "        print(f'Column: {column} has {null_c} NULL values')"
   ]
  },
  {
   "cell_type": "markdown",
   "metadata": {},
   "source": [
    "Based on output we choose to drop `snow_density:kgm3`, `ceiling_height_agl:m`, `cloud_base_agl:m`\n",
    "\n",
    "```\n",
    "X_ESTIMATED\n",
    "Column: ceiling_height_agl:m has 3919 NULL values\n",
    "Column: cloud_base_agl:m has 2094 NULL values\n",
    "Column: snow_density:kgm3 has 15769 NULL values\n",
    "\n",
    "X_OBSERVED:\n",
    "Column: ceiling_height_agl:m has 22247 NULL values\n",
    "Column: cloud_base_agl:m has 8066 NULL values\n",
    "Column: snow_density:kgm3 has 115945 NULL values\n",
    "\n",
    "```"
   ]
  },
  {
   "cell_type": "code",
   "execution_count": 4,
   "metadata": {},
   "outputs": [
    {
     "data": {
      "text/plain": [
       "\" for column in X_train_estimated_a.columns:\\n    null_c =  X_train_estimated_a[column].value_counts()[0]\\n    if null_c > 0: \\n        print(f'Column: {column} has {null_c} 0 values')\\n\\nfor column in X_train_observed_a.columns:\\n    null_c = X_train_observed_a[column].value_counts()[0]\\n    if null_c > 0: \\n        print(f'Column: {column} has {null_c} 0 values') \""
      ]
     },
     "execution_count": 4,
     "metadata": {},
     "output_type": "execute_result"
    }
   ],
   "source": [
    "\"\"\" for column in X_train_estimated_a.columns:\n",
    "    null_c =  X_train_estimated_a[column].value_counts()[0]\n",
    "    if null_c > 0: \n",
    "        print(f'Column: {column} has {null_c} 0 values')\n",
    "\n",
    "for column in X_train_observed_a.columns:\n",
    "    null_c = X_train_observed_a[column].value_counts()[0]\n",
    "    if null_c > 0: \n",
    "        print(f'Column: {column} has {null_c} 0 values') \"\"\""
   ]
  },
  {
   "cell_type": "code",
   "execution_count": 5,
   "metadata": {},
   "outputs": [
    {
     "name": "stdout",
     "output_type": "stream",
     "text": [
      "29667\n"
     ]
    }
   ],
   "source": [
    "\n",
    "# Data set A, B and C clean up\n",
    "binary_featurenames = ['is_day:idx', 'is_in_shadow:idx'] # ONLY FOR REMOVAL IN QUICK TEST\n",
    "categorical_featurenames = ['dew_or_rime:idx', 'precip_type_5min:idx', 'snow_drift:idx']\n",
    "has_null = ['ceiling_height_agl:m', 'cloud_base_agl:m', 'snow_density:kgm3']\n",
    "\n",
    "def data_clean_up(x_train_est, x_train_observe, y_train):\n",
    "\n",
    "  if 'date_calc' in x_train_est.columns:\n",
    "    x_train_est.drop(columns=\"date_calc\", inplace=True)\n",
    "\n",
    "  x_train = pd.concat([x_train_observe, x_train_est])\n",
    "\n",
    "  # Group the rows into blocks of 4 and apply the aggregation function\n",
    "  agg_func = {col: 'mean' for col in x_train.columns[1:]}\n",
    "  X_train_downscaled = x_train.groupby(x_train.index // 4).agg({**{'date_forecast': 'first'}, **agg_func})\n",
    "\n",
    "  y_train.dropna(inplace=True)\n",
    "  combined_data = pd.merge(X_train_downscaled, y_train, left_on='date_forecast', right_on='time')\n",
    "  #combined_data.dropna(inplace=True)\n",
    "  y_train = combined_data[['pv_measurement', 'date_forecast']]\n",
    "\n",
    "  if 'time' and 'pv_measurement' in combined_data.columns:\n",
    "    combined_data.drop(columns=['time', 'pv_measurement'], inplace=True)\n",
    "    combined_data.drop(columns=binary_featurenames, inplace=True)\n",
    "    combined_data.drop(columns=categorical_featurenames, inplace=True)\n",
    "    combined_data.drop(columns=has_null, inplace=True)\n",
    "\n",
    "  return combined_data, y_train\n",
    "\n",
    "def count_null_in_column(df: pd.DataFrame, column_name: str):\n",
    "  return df[column_name].value_counts(None)\n",
    "\n",
    "x_train_a, y_train_a = data_clean_up(X_train_estimated_a, X_train_observed_a, train_targets_a)\n",
    "x_train_b, y_train_b = data_clean_up(X_train_estimated_b, X_train_observed_b, train_targets_b)\n",
    "x_train_c, y_train_c = data_clean_up(X_train_estimated_c, X_train_observed_c, train_targets_c)\n",
    "\n",
    "print(len(x_train_a))\n",
    "\n",
    "\n",
    "def data_clean_up_test(x_test_est):\n",
    "\n",
    "  x_test_est.drop(columns=binary_featurenames, inplace=True)\n",
    "  x_test_est.drop(columns=categorical_featurenames, inplace=True)\n",
    "  x_test_est.drop(columns=has_null, inplace=True)\n",
    "\n",
    "  # Group the rows into blocks of 4 and apply the aggregation function\n",
    "  agg_func = {col: 'mean' for col in x_test_est.columns[1:]}\n",
    "  X_test_downscaled = x_test_est.groupby(x_test_est.index // 4).agg({**{'date_forecast': 'first'}, **agg_func})\n",
    "  \n",
    "\n",
    "  \"\"\"\n",
    "  if 'date_forecast' in X_test_downscaled.columns:\n",
    "    X_test_downscaled.drop(columns=\"date_forecast\", inplace=True)\n",
    "  \"\"\"\n",
    "  return X_test_downscaled\n",
    "\n",
    "X_test_estimated_a = data_clean_up_test(X_test_estimated_a)\n",
    "X_test_estimated_b = data_clean_up_test(X_test_estimated_b)\n",
    "X_test_estimated_c = data_clean_up_test(X_test_estimated_c)\n",
    "\n"
   ]
  },
  {
   "cell_type": "markdown",
   "metadata": {},
   "source": [
    "Keeping this average for now since its the best aggreagation we have at this point. However i do believe that using avg or mean together with delta (total change within the hour) might be a better solution. Also some columns might need other aggregations than avg. "
   ]
  },
  {
   "cell_type": "markdown",
   "metadata": {},
   "source": [
    "# Feature engineering"
   ]
  },
  {
   "cell_type": "markdown",
   "metadata": {},
   "source": [
    "Need to tell the model something about how time seasonality works. E.g. night and day, as well as yearly seasonality. "
   ]
  },
  {
   "cell_type": "code",
   "execution_count": 6,
   "metadata": {},
   "outputs": [
    {
     "name": "stdout",
     "output_type": "stream",
     "text": [
      "29667\n"
     ]
    }
   ],
   "source": [
    "def get_unixtime(datetime: pd.Series) -> pd.Series:\n",
    "    unixtime = (datetime - pd.Timestamp(\"1970-01-01\")) // pd.Timedelta('1s')\n",
    "    return unixtime\n",
    "\n",
    "xat_datetime = x_train_a['date_forecast']\n",
    "xat_unixtime = get_unixtime(xat_datetime)\n",
    "\n",
    "## We now need functions for assigning daily and yearly cycles (described in datanalysis docu on Peter branch)\n",
    "# plus 2 avoids 0 and negative values\n",
    "day = 24*60*60\n",
    "year = (365.2425)*day\n",
    "\n",
    "def sinus_day(unix_time):\n",
    "    return 2 + np.sin(unix_time * (2 * np.pi / day)) # since it is seconds since 1.1.1970 we divide by seconds in a day to get seasonal changes throughout the dat\n",
    "\n",
    "def sinus_year(unix_time):\n",
    "    return 2+ np.sin(unix_time * (2 * np.pi / year))\n",
    "\n",
    "def cosinus_day(unix_time):\n",
    "    return 2+np.cos(unix_time * (2 * np.pi / day))\n",
    "\n",
    "def cosinus_year(unix_time):\n",
    "    return 2+np.cos(unix_time * (2 * np.pi / year))\n",
    "\n",
    "# function for returning two series with the daily cycles (sine and cosine)\n",
    "def get_daycycle(unixtime: pd.Series) -> (pd.Series, pd.Series):\n",
    "    sinus_daytime = unixtime.apply(sinus_day)\n",
    "    sinus_daytime = sinus_daytime.rename('sinus_day') \n",
    "    cosinus_daytime = unixtime.apply(cosinus_day)\n",
    "    cosinus_daytime = cosinus_daytime.rename('cosine_day')\n",
    "    return sinus_daytime, cosinus_daytime\n",
    "\n",
    "# Function for returning two series with the yearly cycles\n",
    "def get_yearcycle(unixtime: pd.Series) -> (pd.Series, pd.Series):\n",
    "    sinus_yeartime = unixtime.apply(sinus_year)\n",
    "    sinus_yeartime = sinus_yeartime.rename('sinus_year')\n",
    "    cosinus_yeartime = unixtime.apply(cosinus_year)\n",
    "    cosinus_yeartime = cosinus_yeartime.rename('cosinus_year')\n",
    "    return sinus_yeartime, cosinus_yeartime\n",
    "\n",
    "xat_day_sin, xat_day_cos = get_daycycle(xat_unixtime)\n",
    "xat_year_sin, xat_year_cos = get_yearcycle(xat_unixtime)\n",
    "\n",
    "xta_feat = x_train_a.join([xat_day_sin, xat_day_cos, xat_year_sin, xat_year_cos])\n",
    "xta_feat.drop(columns=['date_forecast'], inplace=True)\n",
    "print(len(xta_feat))"
   ]
  },
  {
   "cell_type": "markdown",
   "metadata": {},
   "source": [
    "Here we need to do some extra feature engineering with regards to different datatypes in the dataset. A lot of this is explained in the TensorFlow documentation https://www.tensorflow.org/tutorials/load_data/pandas_dataframe. \n",
    "\n",
    "### Setting categorical and binary values as int\n",
    "\n",
    "Tensorflow usuallt interprets data as float32. However for categorical and binary data we want it to be interpreted as integers. Therefore we set these specific columns as datatype int, and the rest as datatype float. Here we utilize the dictionary way of creating a model as opposed to the numpy array way. This is because our data is NOT homogenous. "
   ]
  },
  {
   "cell_type": "code",
   "execution_count": 7,
   "metadata": {},
   "outputs": [
    {
     "name": "stdout",
     "output_type": "stream",
     "text": [
      "({'absolute_humidity_2m:gm3': <tf.Tensor: shape=(), dtype=float32, numpy=8.025>, 'air_density_2m:kgm3': <tf.Tensor: shape=(), dtype=float32, numpy=1.230625>, 'clear_sky_energy_1h:J': <tf.Tensor: shape=(), dtype=float32, numpy=0.0>, 'clear_sky_rad:W': <tf.Tensor: shape=(), dtype=float32, numpy=0.0>, 'dew_point_2m:K': <tf.Tensor: shape=(), dtype=float32, numpy=280.7875>, 'diffuse_rad:W': <tf.Tensor: shape=(), dtype=float32, numpy=0.0>, 'diffuse_rad_1h:J': <tf.Tensor: shape=(), dtype=float32, numpy=0.0>, 'direct_rad:W': <tf.Tensor: shape=(), dtype=float32, numpy=0.0>, 'direct_rad_1h:J': <tf.Tensor: shape=(), dtype=float32, numpy=0.0>, 'effective_cloud_cover:p': <tf.Tensor: shape=(), dtype=float32, numpy=99.5375>, 'elevation:m': <tf.Tensor: shape=(), dtype=float32, numpy=6.0>, 'fresh_snow_12h:cm': <tf.Tensor: shape=(), dtype=float32, numpy=0.0>, 'fresh_snow_1h:cm': <tf.Tensor: shape=(), dtype=float32, numpy=0.0>, 'fresh_snow_24h:cm': <tf.Tensor: shape=(), dtype=float32, numpy=0.0>, 'fresh_snow_3h:cm': <tf.Tensor: shape=(), dtype=float32, numpy=0.0>, 'fresh_snow_6h:cm': <tf.Tensor: shape=(), dtype=float32, numpy=0.0>, 'msl_pressure:hPa': <tf.Tensor: shape=(), dtype=float32, numpy=1003.45>, 'precip_5min:mm': <tf.Tensor: shape=(), dtype=float32, numpy=0.0>, 'pressure_100m:hPa': <tf.Tensor: shape=(), dtype=float32, numpy=990.9>, 'pressure_50m:hPa': <tf.Tensor: shape=(), dtype=float32, numpy=996.9125>, 'prob_rime:p': <tf.Tensor: shape=(), dtype=float32, numpy=0.0>, 'rain_water:kgm2': <tf.Tensor: shape=(), dtype=float32, numpy=0.0375>, 'relative_humidity_1000hPa:p': <tf.Tensor: shape=(), dtype=float32, numpy=82.174995>, 'sfc_pressure:hPa': <tf.Tensor: shape=(), dtype=float32, numpy=1002.975>, 'snow_depth:cm': <tf.Tensor: shape=(), dtype=float32, numpy=0.0>, 'snow_melt_10min:mm': <tf.Tensor: shape=(), dtype=float32, numpy=0.0>, 'snow_water:kgm2': <tf.Tensor: shape=(), dtype=float32, numpy=0.325>, 'sun_azimuth:d': <tf.Tensor: shape=(), dtype=float32, numpy=347.92975>, 'sun_elevation:d': <tf.Tensor: shape=(), dtype=float32, numpy=-21.41975>, 'super_cooled_liquid_water:kgm2': <tf.Tensor: shape=(), dtype=float32, numpy=0.0>, 't_1000hPa:K': <tf.Tensor: shape=(), dtype=float32, numpy=285.45>, 'total_cloud_cover:p': <tf.Tensor: shape=(), dtype=float32, numpy=100.0>, 'visibility:m': <tf.Tensor: shape=(), dtype=float32, numpy=30549.5>, 'wind_speed_10m:ms': <tf.Tensor: shape=(), dtype=float32, numpy=2.15>, 'wind_speed_u_10m:ms': <tf.Tensor: shape=(), dtype=float32, numpy=-1.9499999>, 'wind_speed_v_10m:ms': <tf.Tensor: shape=(), dtype=float32, numpy=0.074999996>, 'wind_speed_w_1000hPa:ms': <tf.Tensor: shape=(), dtype=float32, numpy=0.0>, 'sinus_day': <tf.Tensor: shape=(), dtype=float64, numpy=1.4999999999946427>, 'cosine_day': <tf.Tensor: shape=(), dtype=float64, numpy=2.8660254037813457>, 'sinus_year': <tf.Tensor: shape=(), dtype=float64, numpy=2.487286792810544>, 'cosinus_year': <tf.Tensor: shape=(), dtype=float64, numpy=1.1267580051598447>}, <tf.Tensor: shape=(1,), dtype=float64, numpy=array([0.])>)\n",
      "({'absolute_humidity_2m:gm3': <tf.Tensor: shape=(), dtype=float32, numpy=7.9>, 'air_density_2m:kgm3': <tf.Tensor: shape=(), dtype=float32, numpy=1.22875>, 'clear_sky_energy_1h:J': <tf.Tensor: shape=(), dtype=float32, numpy=0.0>, 'clear_sky_rad:W': <tf.Tensor: shape=(), dtype=float32, numpy=0.0>, 'dew_point_2m:K': <tf.Tensor: shape=(), dtype=float32, numpy=280.57498>, 'diffuse_rad:W': <tf.Tensor: shape=(), dtype=float32, numpy=0.0>, 'diffuse_rad_1h:J': <tf.Tensor: shape=(), dtype=float32, numpy=0.0>, 'direct_rad:W': <tf.Tensor: shape=(), dtype=float32, numpy=0.0>, 'direct_rad_1h:J': <tf.Tensor: shape=(), dtype=float32, numpy=0.0>, 'effective_cloud_cover:p': <tf.Tensor: shape=(), dtype=float32, numpy=99.875>, 'elevation:m': <tf.Tensor: shape=(), dtype=float32, numpy=6.0>, 'fresh_snow_12h:cm': <tf.Tensor: shape=(), dtype=float32, numpy=0.0>, 'fresh_snow_1h:cm': <tf.Tensor: shape=(), dtype=float32, numpy=0.0>, 'fresh_snow_24h:cm': <tf.Tensor: shape=(), dtype=float32, numpy=0.0>, 'fresh_snow_3h:cm': <tf.Tensor: shape=(), dtype=float32, numpy=0.0>, 'fresh_snow_6h:cm': <tf.Tensor: shape=(), dtype=float32, numpy=0.0>, 'msl_pressure:hPa': <tf.Tensor: shape=(), dtype=float32, numpy=1002.3625>, 'precip_5min:mm': <tf.Tensor: shape=(), dtype=float32, numpy=0.0>, 'pressure_100m:hPa': <tf.Tensor: shape=(), dtype=float32, numpy=989.8375>, 'pressure_50m:hPa': <tf.Tensor: shape=(), dtype=float32, numpy=995.825>, 'prob_rime:p': <tf.Tensor: shape=(), dtype=float32, numpy=0.0>, 'rain_water:kgm2': <tf.Tensor: shape=(), dtype=float32, numpy=0.0625>, 'relative_humidity_1000hPa:p': <tf.Tensor: shape=(), dtype=float32, numpy=80.475>, 'sfc_pressure:hPa': <tf.Tensor: shape=(), dtype=float32, numpy=1001.8625>, 'snow_depth:cm': <tf.Tensor: shape=(), dtype=float32, numpy=0.0>, 'snow_melt_10min:mm': <tf.Tensor: shape=(), dtype=float32, numpy=0.0>, 'snow_water:kgm2': <tf.Tensor: shape=(), dtype=float32, numpy=0.45>, 'sun_azimuth:d': <tf.Tensor: shape=(), dtype=float32, numpy=94.3645>, 'sun_elevation:d': <tf.Tensor: shape=(), dtype=float32, numpy=-21.869751>, 'super_cooled_liquid_water:kgm2': <tf.Tensor: shape=(), dtype=float32, numpy=0.0>, 't_1000hPa:K': <tf.Tensor: shape=(), dtype=float32, numpy=285.6125>, 'total_cloud_cover:p': <tf.Tensor: shape=(), dtype=float32, numpy=100.0>, 'visibility:m': <tf.Tensor: shape=(), dtype=float32, numpy=19697.412>, 'wind_speed_10m:ms': <tf.Tensor: shape=(), dtype=float32, numpy=2.0625>, 'wind_speed_u_10m:ms': <tf.Tensor: shape=(), dtype=float32, numpy=-1.4625>, 'wind_speed_v_10m:ms': <tf.Tensor: shape=(), dtype=float32, numpy=0.4>, 'wind_speed_w_1000hPa:ms': <tf.Tensor: shape=(), dtype=float32, numpy=0.0>, 'sinus_day': <tf.Tensor: shape=(), dtype=float64, numpy=1.741180954886406>, 'cosine_day': <tf.Tensor: shape=(), dtype=float64, numpy=2.9659258262861012>, 'sinus_year': <tf.Tensor: shape=(), dtype=float64, numpy=2.4866607432119068>, 'cosinus_year': <tf.Tensor: shape=(), dtype=float64, numpy=1.1264089509293065>}, <tf.Tensor: shape=(1,), dtype=float64, numpy=array([0.])>)\n",
      "({'absolute_humidity_2m:gm3': <tf.Tensor: shape=(), dtype=float32, numpy=8.0125>, 'air_density_2m:kgm3': <tf.Tensor: shape=(), dtype=float32, numpy=1.22475>, 'clear_sky_energy_1h:J': <tf.Tensor: shape=(), dtype=float32, numpy=0.0>, 'clear_sky_rad:W': <tf.Tensor: shape=(), dtype=float32, numpy=0.0>, 'dew_point_2m:K': <tf.Tensor: shape=(), dtype=float32, numpy=280.7875>, 'diffuse_rad:W': <tf.Tensor: shape=(), dtype=float32, numpy=0.0>, 'diffuse_rad_1h:J': <tf.Tensor: shape=(), dtype=float32, numpy=0.0>, 'direct_rad:W': <tf.Tensor: shape=(), dtype=float32, numpy=0.0>, 'direct_rad_1h:J': <tf.Tensor: shape=(), dtype=float32, numpy=0.0>, 'effective_cloud_cover:p': <tf.Tensor: shape=(), dtype=float32, numpy=100.0>, 'elevation:m': <tf.Tensor: shape=(), dtype=float32, numpy=6.0>, 'fresh_snow_12h:cm': <tf.Tensor: shape=(), dtype=float32, numpy=0.0>, 'fresh_snow_1h:cm': <tf.Tensor: shape=(), dtype=float32, numpy=0.0>, 'fresh_snow_24h:cm': <tf.Tensor: shape=(), dtype=float32, numpy=0.0>, 'fresh_snow_3h:cm': <tf.Tensor: shape=(), dtype=float32, numpy=0.0>, 'fresh_snow_6h:cm': <tf.Tensor: shape=(), dtype=float32, numpy=0.0>, 'msl_pressure:hPa': <tf.Tensor: shape=(), dtype=float32, numpy=1000.75>, 'precip_5min:mm': <tf.Tensor: shape=(), dtype=float32, numpy=0.058749996>, 'pressure_100m:hPa': <tf.Tensor: shape=(), dtype=float32, numpy=988.2125>, 'pressure_50m:hPa': <tf.Tensor: shape=(), dtype=float32, numpy=994.2>, 'prob_rime:p': <tf.Tensor: shape=(), dtype=float32, numpy=0.0>, 'rain_water:kgm2': <tf.Tensor: shape=(), dtype=float32, numpy=0.15>, 'relative_humidity_1000hPa:p': <tf.Tensor: shape=(), dtype=float32, numpy=78.575>, 'sfc_pressure:hPa': <tf.Tensor: shape=(), dtype=float32, numpy=1000.2125>, 'snow_depth:cm': <tf.Tensor: shape=(), dtype=float32, numpy=0.0>, 'snow_melt_10min:mm': <tf.Tensor: shape=(), dtype=float32, numpy=0.0>, 'snow_water:kgm2': <tf.Tensor: shape=(), dtype=float32, numpy=0.7875>, 'sun_azimuth:d': <tf.Tensor: shape=(), dtype=float32, numpy=19.587875>, 'sun_elevation:d': <tf.Tensor: shape=(), dtype=float32, numpy=-20.675>, 'super_cooled_liquid_water:kgm2': <tf.Tensor: shape=(), dtype=float32, numpy=0.1>, 't_1000hPa:K': <tf.Tensor: shape=(), dtype=float32, numpy=285.4125>, 'total_cloud_cover:p': <tf.Tensor: shape=(), dtype=float32, numpy=100.0>, 'visibility:m': <tf.Tensor: shape=(), dtype=float32, numpy=8417.963>, 'wind_speed_10m:ms': <tf.Tensor: shape=(), dtype=float32, numpy=2.275>, 'wind_speed_u_10m:ms': <tf.Tensor: shape=(), dtype=float32, numpy=-0.95>, 'wind_speed_v_10m:ms': <tf.Tensor: shape=(), dtype=float32, numpy=0.8625>, 'wind_speed_w_1000hPa:ms': <tf.Tensor: shape=(), dtype=float32, numpy=0.0>, 'sinus_day': <tf.Tensor: shape=(), dtype=float64, numpy=1.9999999999978102>, 'cosine_day': <tf.Tensor: shape=(), dtype=float64, numpy=3.0>, 'sinus_year': <tf.Tensor: shape=(), dtype=float64, numpy=2.486034443578194>, 'cosinus_year': <tf.Tensor: shape=(), dtype=float64, numpy=1.1260603455297185>}, <tf.Tensor: shape=(1,), dtype=float64, numpy=array([0.])>)\n"
     ]
    },
    {
     "name": "stderr",
     "output_type": "stream",
     "text": [
      "/var/folders/94/wm45lcfj7sv746_0rnyvdk840000gn/T/ipykernel_33968/1542623841.py:2: SettingWithCopyWarning: \n",
      "A value is trying to be set on a copy of a slice from a DataFrame\n",
      "\n",
      "See the caveats in the documentation: https://pandas.pydata.org/pandas-docs/stable/user_guide/indexing.html#returning-a-view-versus-a-copy\n",
      "  target.drop(columns='date_forecast', inplace=True)\n"
     ]
    }
   ],
   "source": [
    "target = y_train_a\n",
    "target.drop(columns='date_forecast', inplace=True)\n",
    "xta_numeric_dict_ds = tf.data.Dataset.from_tensor_slices((dict(xta_feat), target))\n",
    "for row in xta_numeric_dict_ds.take(3):\n",
    "  print(row)"
   ]
  },
  {
   "cell_type": "markdown",
   "metadata": {},
   "source": [
    "### Preprocessing pipeline (not in quick)"
   ]
  },
  {
   "cell_type": "code",
   "execution_count": 8,
   "metadata": {},
   "outputs": [
    {
     "data": {
      "text/plain": [
       "{'absolute_humidity_2m:gm3': <KerasTensor: shape=(None,) dtype=float32 (created by layer 'absolute_humidity_2m:gm3')>,\n",
       " 'air_density_2m:kgm3': <KerasTensor: shape=(None,) dtype=float32 (created by layer 'air_density_2m:kgm3')>,\n",
       " 'clear_sky_energy_1h:J': <KerasTensor: shape=(None,) dtype=float32 (created by layer 'clear_sky_energy_1h:J')>,\n",
       " 'clear_sky_rad:W': <KerasTensor: shape=(None,) dtype=float32 (created by layer 'clear_sky_rad:W')>,\n",
       " 'dew_point_2m:K': <KerasTensor: shape=(None,) dtype=float32 (created by layer 'dew_point_2m:K')>,\n",
       " 'diffuse_rad:W': <KerasTensor: shape=(None,) dtype=float32 (created by layer 'diffuse_rad:W')>,\n",
       " 'diffuse_rad_1h:J': <KerasTensor: shape=(None,) dtype=float32 (created by layer 'diffuse_rad_1h:J')>,\n",
       " 'direct_rad:W': <KerasTensor: shape=(None,) dtype=float32 (created by layer 'direct_rad:W')>,\n",
       " 'direct_rad_1h:J': <KerasTensor: shape=(None,) dtype=float32 (created by layer 'direct_rad_1h:J')>,\n",
       " 'effective_cloud_cover:p': <KerasTensor: shape=(None,) dtype=float32 (created by layer 'effective_cloud_cover:p')>,\n",
       " 'elevation:m': <KerasTensor: shape=(None,) dtype=float32 (created by layer 'elevation:m')>,\n",
       " 'fresh_snow_12h:cm': <KerasTensor: shape=(None,) dtype=float32 (created by layer 'fresh_snow_12h:cm')>,\n",
       " 'fresh_snow_1h:cm': <KerasTensor: shape=(None,) dtype=float32 (created by layer 'fresh_snow_1h:cm')>,\n",
       " 'fresh_snow_24h:cm': <KerasTensor: shape=(None,) dtype=float32 (created by layer 'fresh_snow_24h:cm')>,\n",
       " 'fresh_snow_3h:cm': <KerasTensor: shape=(None,) dtype=float32 (created by layer 'fresh_snow_3h:cm')>,\n",
       " 'fresh_snow_6h:cm': <KerasTensor: shape=(None,) dtype=float32 (created by layer 'fresh_snow_6h:cm')>,\n",
       " 'msl_pressure:hPa': <KerasTensor: shape=(None,) dtype=float32 (created by layer 'msl_pressure:hPa')>,\n",
       " 'precip_5min:mm': <KerasTensor: shape=(None,) dtype=float32 (created by layer 'precip_5min:mm')>,\n",
       " 'pressure_100m:hPa': <KerasTensor: shape=(None,) dtype=float32 (created by layer 'pressure_100m:hPa')>,\n",
       " 'pressure_50m:hPa': <KerasTensor: shape=(None,) dtype=float32 (created by layer 'pressure_50m:hPa')>,\n",
       " 'prob_rime:p': <KerasTensor: shape=(None,) dtype=float32 (created by layer 'prob_rime:p')>,\n",
       " 'rain_water:kgm2': <KerasTensor: shape=(None,) dtype=float32 (created by layer 'rain_water:kgm2')>,\n",
       " 'relative_humidity_1000hPa:p': <KerasTensor: shape=(None,) dtype=float32 (created by layer 'relative_humidity_1000hPa:p')>,\n",
       " 'sfc_pressure:hPa': <KerasTensor: shape=(None,) dtype=float32 (created by layer 'sfc_pressure:hPa')>,\n",
       " 'snow_depth:cm': <KerasTensor: shape=(None,) dtype=float32 (created by layer 'snow_depth:cm')>,\n",
       " 'snow_melt_10min:mm': <KerasTensor: shape=(None,) dtype=float32 (created by layer 'snow_melt_10min:mm')>,\n",
       " 'snow_water:kgm2': <KerasTensor: shape=(None,) dtype=float32 (created by layer 'snow_water:kgm2')>,\n",
       " 'sun_azimuth:d': <KerasTensor: shape=(None,) dtype=float32 (created by layer 'sun_azimuth:d')>,\n",
       " 'sun_elevation:d': <KerasTensor: shape=(None,) dtype=float32 (created by layer 'sun_elevation:d')>,\n",
       " 'super_cooled_liquid_water:kgm2': <KerasTensor: shape=(None,) dtype=float32 (created by layer 'super_cooled_liquid_water:kgm2')>,\n",
       " 't_1000hPa:K': <KerasTensor: shape=(None,) dtype=float32 (created by layer 't_1000hPa:K')>,\n",
       " 'total_cloud_cover:p': <KerasTensor: shape=(None,) dtype=float32 (created by layer 'total_cloud_cover:p')>,\n",
       " 'visibility:m': <KerasTensor: shape=(None,) dtype=float32 (created by layer 'visibility:m')>,\n",
       " 'wind_speed_10m:ms': <KerasTensor: shape=(None,) dtype=float32 (created by layer 'wind_speed_10m:ms')>,\n",
       " 'wind_speed_u_10m:ms': <KerasTensor: shape=(None,) dtype=float32 (created by layer 'wind_speed_u_10m:ms')>,\n",
       " 'wind_speed_v_10m:ms': <KerasTensor: shape=(None,) dtype=float32 (created by layer 'wind_speed_v_10m:ms')>,\n",
       " 'wind_speed_w_1000hPa:ms': <KerasTensor: shape=(None,) dtype=float32 (created by layer 'wind_speed_w_1000hPa:ms')>,\n",
       " 'sinus_day': <KerasTensor: shape=(None,) dtype=float32 (created by layer 'sinus_day')>,\n",
       " 'cosine_day': <KerasTensor: shape=(None,) dtype=float32 (created by layer 'cosine_day')>,\n",
       " 'sinus_year': <KerasTensor: shape=(None,) dtype=float32 (created by layer 'sinus_year')>,\n",
       " 'cosinus_year': <KerasTensor: shape=(None,) dtype=float32 (created by layer 'cosinus_year')>}"
      ]
     },
     "execution_count": 8,
     "metadata": {},
     "output_type": "execute_result"
    }
   ],
   "source": [
    "binary_featurenames = ['is_day:idx', 'is_in_shadow:idx']\n",
    "categorical_featurenames = ['dew_or_rime:idx', 'precip_type_5min:idx', 'snow_drift:idx']\n",
    "\n",
    "inputs = {}\n",
    "for name, column in xta_feat.items():\n",
    "  dtype = tf.float32\n",
    "  inputs[name] = tf.keras.Input(shape=(), name=name, dtype=dtype)\n",
    "inputs"
   ]
  },
  {
   "cell_type": "code",
   "execution_count": 9,
   "metadata": {},
   "outputs": [
    {
     "data": {
      "text/plain": [
       "' preprocessed = []\\n\\nfor name in binary_featurenames:\\n  inp = inputs[name]\\n  inp = inp[:, tf.newaxis]\\n  float_value = tf.cast(inp, tf.float32)\\n  preprocessed.append(float_value)\\n\\npreprocessed '"
      ]
     },
     "execution_count": 9,
     "metadata": {},
     "output_type": "execute_result"
    }
   ],
   "source": [
    "\"\"\" preprocessed = []\n",
    "\n",
    "for name in binary_featurenames:\n",
    "  inp = inputs[name]\n",
    "  inp = inp[:, tf.newaxis]\n",
    "  float_value = tf.cast(inp, tf.float32)\n",
    "  preprocessed.append(float_value)\n",
    "\n",
    "preprocessed \"\"\""
   ]
  },
  {
   "cell_type": "code",
   "execution_count": 10,
   "metadata": {},
   "outputs": [
    {
     "data": {
      "text/plain": [
       "[<KerasTensor: shape=(None, 41) dtype=float32 (created by layer 'normalization')>]"
      ]
     },
     "execution_count": 10,
     "metadata": {},
     "output_type": "execute_result"
    }
   ],
   "source": [
    "preprocessed = []\n",
    "def stack_dict(inputs, fun=tf.stack):\n",
    "    values = []\n",
    "    for key in sorted(inputs.keys()):\n",
    "      values.append(tf.cast(inputs[key], tf.float32))\n",
    "\n",
    "    return fun(values, axis=-1)\n",
    "\n",
    "# getting numerical features\n",
    "numeric_feature_names = []\n",
    "for col in xta_feat.columns:\n",
    "   if col not in binary_featurenames and col not in categorical_featurenames:\n",
    "    numeric_feature_names.append(col)\n",
    "numeric_features = xta_feat[numeric_feature_names]\n",
    "\n",
    "normalizer = tf.keras.layers.Normalization(axis=-1)\n",
    "normalizer.adapt(stack_dict(dict(numeric_features)))\n",
    "\n",
    "# creating new dict to send to normalizer and append to preprocessed\n",
    "numeric_inputs = {}\n",
    "for name in numeric_feature_names:\n",
    "  numeric_inputs[name]=inputs[name]\n",
    "\n",
    "numeric_inputs = stack_dict(numeric_inputs)\n",
    "numeric_normalized = normalizer(numeric_inputs)\n",
    "\n",
    "preprocessed.append(numeric_normalized)\n",
    "\n",
    "preprocessed"
   ]
  },
  {
   "cell_type": "code",
   "execution_count": 11,
   "metadata": {},
   "outputs": [
    {
     "data": {
      "text/plain": [
       "\" for name in categorical_featurenames:\\n  vocab = sorted(set(xta_feat[name]))\\n  print(f'name: {name}')\\n  print(f'vocab: {vocab}\\n')\\n\\n  if type(vocab[0]) is str:\\n    lookup = tf.keras.layers.StringLookup(vocabulary=vocab, output_mode='one_hot')\\n  else:\\n    lookup = tf.keras.layers.IntegerLookup(vocabulary=vocab, output_mode='one_hot')\\n\\n  x = inputs[name][:, tf.newaxis]\\n  x = lookup(x)\\n  preprocessed.append(x) \""
      ]
     },
     "execution_count": 11,
     "metadata": {},
     "output_type": "execute_result"
    }
   ],
   "source": [
    "\"\"\" for name in categorical_featurenames:\n",
    "  vocab = sorted(set(xta_feat[name]))\n",
    "  print(f'name: {name}')\n",
    "  print(f'vocab: {vocab}\\n')\n",
    "\n",
    "  if type(vocab[0]) is str:\n",
    "    lookup = tf.keras.layers.StringLookup(vocabulary=vocab, output_mode='one_hot')\n",
    "  else:\n",
    "    lookup = tf.keras.layers.IntegerLookup(vocabulary=vocab, output_mode='one_hot')\n",
    "\n",
    "  x = inputs[name][:, tf.newaxis]\n",
    "  x = lookup(x)\n",
    "  preprocessed.append(x) \"\"\""
   ]
  },
  {
   "cell_type": "code",
   "execution_count": 12,
   "metadata": {},
   "outputs": [
    {
     "data": {
      "text/plain": [
       "<KerasTensor: shape=(None, 41) dtype=float32 (created by layer 'tf.identity')>"
      ]
     },
     "execution_count": 12,
     "metadata": {},
     "output_type": "execute_result"
    }
   ],
   "source": [
    "preprocesssed_result = tf.concat(preprocessed, axis=-1)\n",
    "preprocesssed_result"
   ]
  },
  {
   "cell_type": "code",
   "execution_count": 13,
   "metadata": {},
   "outputs": [
    {
     "name": "stdout",
     "output_type": "stream",
     "text": [
      "You must install pydot (`pip install pydot`) and install graphviz (see instructions at https://graphviz.gitlab.io/download/) for plot_model to work.\n"
     ]
    }
   ],
   "source": [
    "preprocessor = tf.keras.Model(inputs, preprocesssed_result)\n",
    "tf.keras.utils.plot_model(preprocessor, rankdir=\"LR\", show_shapes=True)"
   ]
  },
  {
   "cell_type": "code",
   "execution_count": 32,
   "metadata": {},
   "outputs": [],
   "source": [
    "body = tf.keras.Sequential([\n",
    "  tf.keras.layers.Dense(5),\n",
    "  #tf.keras.layers.Dense(10, activation='relu'),\n",
    "  tf.keras.layers.Dense(1)\n",
    "])"
   ]
  },
  {
   "cell_type": "code",
   "execution_count": 28,
   "metadata": {},
   "outputs": [],
   "source": [
    "x = preprocessor(inputs)"
   ]
  },
  {
   "cell_type": "code",
   "execution_count": 33,
   "metadata": {},
   "outputs": [],
   "source": [
    "result = body(x)"
   ]
  },
  {
   "cell_type": "code",
   "execution_count": 34,
   "metadata": {},
   "outputs": [],
   "source": [
    "model = tf.keras.Model(inputs, result)\n",
    "\n",
    "model.compile(optimizer='adam',\n",
    "                loss=tf.keras.losses.MeanSquaredError(reduction=\"auto\", name=\"mean_squared_error\"),\n",
    "                metrics=['accuracy'])"
   ]
  },
  {
   "cell_type": "markdown",
   "metadata": {},
   "source": [
    "# Training the model"
   ]
  },
  {
   "cell_type": "code",
   "execution_count": 35,
   "metadata": {},
   "outputs": [
    {
     "name": "stdout",
     "output_type": "stream",
     "text": [
      "Epoch 1/5\n",
      "14834/14834 [==============================] - 13s 875us/step - loss: 987972.9375 - accuracy: 0.4093\n",
      "Epoch 2/5\n",
      "14834/14834 [==============================] - 13s 870us/step - loss: 393057.1562 - accuracy: 0.3746\n",
      "Epoch 3/5\n",
      "14834/14834 [==============================] - 13s 894us/step - loss: 320507.0000 - accuracy: 0.2947\n",
      "Epoch 4/5\n",
      "14834/14834 [==============================] - 14s 968us/step - loss: 305607.3750 - accuracy: 0.2630\n",
      "Epoch 5/5\n",
      "14834/14834 [==============================] - 14s 922us/step - loss: 299016.5625 - accuracy: 0.2570\n"
     ]
    },
    {
     "data": {
      "text/plain": [
       "<keras.src.callbacks.History at 0x2a9b4a9d0>"
      ]
     },
     "execution_count": 35,
     "metadata": {},
     "output_type": "execute_result"
    }
   ],
   "source": [
    "SHUFFLE_BUFFER = 500\n",
    "BATCH_SIZE = 2\n",
    "\n",
    "model.fit(dict(xta_feat), target, epochs=5, batch_size=BATCH_SIZE)\n"
   ]
  },
  {
   "cell_type": "markdown",
   "metadata": {},
   "source": [
    "# Make predictions"
   ]
  },
  {
   "cell_type": "code",
   "execution_count": null,
   "metadata": {},
   "outputs": [],
   "source": [
    "# Do some more stuff"
   ]
  },
  {
   "cell_type": "markdown",
   "metadata": {},
   "source": [
    "# Evaluate prediction"
   ]
  },
  {
   "cell_type": "code",
   "execution_count": null,
   "metadata": {},
   "outputs": [],
   "source": [
    "# Evaluate the model\n",
    "\n",
    "y_pred = []"
   ]
  },
  {
   "cell_type": "markdown",
   "metadata": {},
   "source": [
    "# Create submission"
   ]
  },
  {
   "cell_type": "code",
   "execution_count": null,
   "metadata": {},
   "outputs": [],
   "source": [
    "y_test_pred = y_pred\n",
    "\n",
    "test = pd.read_csv('../data/test.csv')\n",
    "test['prediction'] = y_test_pred\n",
    "sample_submission = pd.read_csv('../data/sample_submission.csv')\n",
    "submission = sample_submission[['id']].merge(test[['id', 'prediction']], on='id', how='left')\n",
    "submission.to_csv('submission.csv', index=False)"
   ]
  }
 ],
 "metadata": {
  "kernelspec": {
   "display_name": "Python 3",
   "language": "python",
   "name": "python3"
  },
  "language_info": {
   "codemirror_mode": {
    "name": "ipython",
    "version": 3
   },
   "file_extension": ".py",
   "mimetype": "text/x-python",
   "name": "python",
   "nbconvert_exporter": "python",
   "pygments_lexer": "ipython3",
   "version": "3.9.16"
  },
  "orig_nbformat": 4
 },
 "nbformat": 4,
 "nbformat_minor": 2
}
