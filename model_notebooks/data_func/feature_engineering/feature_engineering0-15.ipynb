{
 "cells": [
  {
   "cell_type": "markdown",
   "metadata": {},
   "source": [
    "First 15 features:\n",
    "\n",
    "date_forecast (split into year, month, day)\n",
    "\n",
    "absolute_humidity_2m:gm3\n",
    "\n",
    "air_density_2m:kgm3\n",
    "\n",
    "De to over gir bedre resultat om man dropper de hver for seg, men om man dropper de sammen gir de dårligere. Interessant.\n",
    "\n",
    "ceiling_height_agl:m (settes høy) (Ble bedre ved å sette til 0 enn 100 000 eller 1 000 000)\n",
    "\n",
    "clear_sky_energy_1h:J\n",
    "\n",
    "clear_sky_rad:W\n",
    "\n",
    "cloud_base_agl:m (settes høy) (Ble bedre ved å sette til 100 000 enn 0, veldig liten forskjell)\n",
    "\n",
    "dew_or_rime:idx (one hot encode)\n",
    "\n",
    "dew_point_2m:K\n",
    "\n",
    "diffuse_rad:W (kombineres med direct_rad:W)\n",
    "\n",
    "diffuse_rad_1h:J (kombineres med direct_rad_1h:J)\n",
    "\n",
    "direct_rad:W (kombineres med diffuse_rad:W)\n",
    "\n",
    "direct_rad_1h:J (kombineres med diffuse_rad_1h:J)\n",
    "\n",
    "effective_cloud_cover:p\n",
    "\n",
    "elevation:m (droppe)\n"
   ]
  },
  {
   "cell_type": "code",
   "execution_count": 6,
   "metadata": {},
   "outputs": [
    {
     "name": "stdout",
     "output_type": "stream",
     "text": [
      "   year month day hours\n",
      "0  2019    06  02    23\n",
      "1  2019    06  04    22\n",
      "2  2019    06  03    10\n"
     ]
    }
   ],
   "source": [
    "import pandas as pd\n",
    "\n",
    "def date_forecast_columns(df: pd.DataFrame):\n",
    "  df[['year', 'month', 'day_and_hours']] = df['date_forecast'].str.split('-', expand=True)\n",
    "  df[['day', 'hours_string']] = df['day_and_hours'].str.split('T', expand=True)\n",
    "  df[['hours', 'minutes', 'seconds']] = df['hours_string'].str.split(':', expand=True)\n",
    "  df.drop(columns=['date_forecast', 'day_and_hours', 'hours_string', 'minutes', 'seconds'], inplace=True)\n",
    "\n",
    "\n",
    "if __name__ == '__main__':\n",
    "  df = pd.DataFrame({'date_forecast': ['2019-06-02T23:00:00.000Z', '2019-06-04T22:0:00.000Z', '2019-06-03T10:00:00.000Z']})\n",
    "  date_forecast_columns(df)\n",
    "  print(df)"
   ]
  },
  {
   "cell_type": "code",
   "execution_count": null,
   "metadata": {},
   "outputs": [],
   "source": [
    "def combine_columns_sum(df: pd.DataFrame, new_column_name: str, column1: str, column2: str):\n",
    "  df[new_column_name] = df[column1] + df[column2]\n",
    "\n",
    "def combine_columns_sub(df: pd.DataFrame, new_column_name: str, column1: str, column2: str):\n",
    "  df[new_column_name] = df[column1] - df[column2]\n",
    "\n",
    "def combine_columns_multiplication(df: pd.DataFrame, new_column_name: str, column1: str, column2: str):\n",
    "  df[new_column_name] = df[column1] * df[column2]\n",
    "\n",
    "def combine_columns_division(df: pd.DataFrame, new_column_name: str, column1: str, column2: str):\n",
    "  df[new_column_name] = df[column1] / df[column2]"
   ]
  }
 ],
 "metadata": {
  "kernelspec": {
   "display_name": "Python 3",
   "language": "python",
   "name": "python3"
  },
  "language_info": {
   "codemirror_mode": {
    "name": "ipython",
    "version": 3
   },
   "file_extension": ".py",
   "mimetype": "text/x-python",
   "name": "python",
   "nbconvert_exporter": "python",
   "pygments_lexer": "ipython3",
   "version": "3.9.6"
  },
  "orig_nbformat": 4
 },
 "nbformat": 4,
 "nbformat_minor": 2
}
