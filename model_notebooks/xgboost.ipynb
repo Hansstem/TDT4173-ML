{
 "cells": [
  {
   "cell_type": "markdown",
   "metadata": {},
   "source": [
    "# Imports"
   ]
  },
  {
   "cell_type": "code",
   "execution_count": 1,
   "metadata": {},
   "outputs": [],
   "source": [
    "\n",
    "import pandas as pd\n",
    "import numpy as np\n",
    "import xgboost as xgb\n",
    "from sklearn.model_selection import train_test_split\n",
    "from sklearn.metrics import mean_squared_error\n",
    "\n",
    "import warnings\n",
    "import data_func.read_data as read_data\n",
    "warnings.filterwarnings(\"ignore\", category=FutureWarning, module=\"xgboost\")\n",
    "\n"
   ]
  },
  {
   "cell_type": "markdown",
   "metadata": {},
   "source": [
    "# Load datasets"
   ]
  },
  {
   "cell_type": "code",
   "execution_count": 2,
   "metadata": {},
   "outputs": [],
   "source": [
    "dataframes = read_data.get_training_data()\n",
    "X_frames_train = dataframes[0]\n",
    "Y_frames_train = dataframes[1]\n",
    "X_frames_test = read_data.get_test_data()\n"
   ]
  },
  {
   "cell_type": "markdown",
   "metadata": {},
   "source": [
    "# Data clean up an aggregation"
   ]
  },
  {
   "cell_type": "code",
   "execution_count": 3,
   "metadata": {},
   "outputs": [
    {
     "name": "stdout",
     "output_type": "stream",
     "text": [
      "29667\n",
      "29667\n",
      "720\n"
     ]
    }
   ],
   "source": [
    "# making shure that target values line up with x_values\n",
    "\n",
    "def data_allign(x_train, y_train):\n",
    "\n",
    "  y_train.dropna(inplace=True)\n",
    "  combined_data = pd.merge(x_train, y_train, left_on='date_forecast', right_on='time')\n",
    "  y_train = combined_data['pv_measurement']\n",
    "\n",
    "  if 'time' and 'pv_measurement' in combined_data.columns:\n",
    "    combined_data.drop(columns=['time', 'pv_measurement'], inplace=True)\n",
    "    \n",
    "  return combined_data, y_train\n",
    "\n",
    "import data_func.aggregation as data_agg\n",
    "\n",
    "for i in range(len(X_frames_train)):\n",
    "    X_frames_train[i] = data_agg.gen_agg(X_frames_train[i], 'mean')\n",
    "    X_frames_train[i], Y_frames_train[i] = data_allign(X_frames_train[i], Y_frames_train[i])\n",
    "\n",
    "\n",
    "for j in range(len(X_frames_test)):\n",
    "    X_frames_test[j] = data_agg.gen_agg(X_frames_test[j], 'mean')\n",
    "\n",
    "print(len(X_frames_train[0]))\n",
    "print(len(Y_frames_train[0]))\n",
    "print(len(X_frames_test[0]))\n"
   ]
  },
  {
   "cell_type": "markdown",
   "metadata": {},
   "source": [
    "# Feature engineering"
   ]
  },
  {
   "cell_type": "code",
   "execution_count": 4,
   "metadata": {},
   "outputs": [],
   "source": [
    "import data_func.timeseasonality as DTS\n",
    "for i in range(len(X_frames_train)):\n",
    "    X_frames_train[i] = DTS.append_seasonal_columns(X_frames_train[i])\n",
    "    X_frames_train[i].drop(columns=['date_forecast'], inplace=True)\n",
    "\n",
    "for i in range(len(X_frames_test)):\n",
    "    X_frames_test[i] = DTS.append_seasonal_columns(X_frames_test[i])\n",
    "    X_frames_test[i].drop(columns=['date_forecast'], inplace=True)"
   ]
  },
  {
   "cell_type": "markdown",
   "metadata": {},
   "source": [
    "# Training the model"
   ]
  },
  {
   "cell_type": "code",
   "execution_count": 5,
   "metadata": {},
   "outputs": [
    {
     "data": {
      "text/html": [
       "<style>#sk-container-id-1 {color: black;}#sk-container-id-1 pre{padding: 0;}#sk-container-id-1 div.sk-toggleable {background-color: white;}#sk-container-id-1 label.sk-toggleable__label {cursor: pointer;display: block;width: 100%;margin-bottom: 0;padding: 0.3em;box-sizing: border-box;text-align: center;}#sk-container-id-1 label.sk-toggleable__label-arrow:before {content: \"▸\";float: left;margin-right: 0.25em;color: #696969;}#sk-container-id-1 label.sk-toggleable__label-arrow:hover:before {color: black;}#sk-container-id-1 div.sk-estimator:hover label.sk-toggleable__label-arrow:before {color: black;}#sk-container-id-1 div.sk-toggleable__content {max-height: 0;max-width: 0;overflow: hidden;text-align: left;background-color: #f0f8ff;}#sk-container-id-1 div.sk-toggleable__content pre {margin: 0.2em;color: black;border-radius: 0.25em;background-color: #f0f8ff;}#sk-container-id-1 input.sk-toggleable__control:checked~div.sk-toggleable__content {max-height: 200px;max-width: 100%;overflow: auto;}#sk-container-id-1 input.sk-toggleable__control:checked~label.sk-toggleable__label-arrow:before {content: \"▾\";}#sk-container-id-1 div.sk-estimator input.sk-toggleable__control:checked~label.sk-toggleable__label {background-color: #d4ebff;}#sk-container-id-1 div.sk-label input.sk-toggleable__control:checked~label.sk-toggleable__label {background-color: #d4ebff;}#sk-container-id-1 input.sk-hidden--visually {border: 0;clip: rect(1px 1px 1px 1px);clip: rect(1px, 1px, 1px, 1px);height: 1px;margin: -1px;overflow: hidden;padding: 0;position: absolute;width: 1px;}#sk-container-id-1 div.sk-estimator {font-family: monospace;background-color: #f0f8ff;border: 1px dotted black;border-radius: 0.25em;box-sizing: border-box;margin-bottom: 0.5em;}#sk-container-id-1 div.sk-estimator:hover {background-color: #d4ebff;}#sk-container-id-1 div.sk-parallel-item::after {content: \"\";width: 100%;border-bottom: 1px solid gray;flex-grow: 1;}#sk-container-id-1 div.sk-label:hover label.sk-toggleable__label {background-color: #d4ebff;}#sk-container-id-1 div.sk-serial::before {content: \"\";position: absolute;border-left: 1px solid gray;box-sizing: border-box;top: 0;bottom: 0;left: 50%;z-index: 0;}#sk-container-id-1 div.sk-serial {display: flex;flex-direction: column;align-items: center;background-color: white;padding-right: 0.2em;padding-left: 0.2em;position: relative;}#sk-container-id-1 div.sk-item {position: relative;z-index: 1;}#sk-container-id-1 div.sk-parallel {display: flex;align-items: stretch;justify-content: center;background-color: white;position: relative;}#sk-container-id-1 div.sk-item::before, #sk-container-id-1 div.sk-parallel-item::before {content: \"\";position: absolute;border-left: 1px solid gray;box-sizing: border-box;top: 0;bottom: 0;left: 50%;z-index: -1;}#sk-container-id-1 div.sk-parallel-item {display: flex;flex-direction: column;z-index: 1;position: relative;background-color: white;}#sk-container-id-1 div.sk-parallel-item:first-child::after {align-self: flex-end;width: 50%;}#sk-container-id-1 div.sk-parallel-item:last-child::after {align-self: flex-start;width: 50%;}#sk-container-id-1 div.sk-parallel-item:only-child::after {width: 0;}#sk-container-id-1 div.sk-dashed-wrapped {border: 1px dashed gray;margin: 0 0.4em 0.5em 0.4em;box-sizing: border-box;padding-bottom: 0.4em;background-color: white;}#sk-container-id-1 div.sk-label label {font-family: monospace;font-weight: bold;display: inline-block;line-height: 1.2em;}#sk-container-id-1 div.sk-label-container {text-align: center;}#sk-container-id-1 div.sk-container {/* jupyter's `normalize.less` sets `[hidden] { display: none; }` but bootstrap.min.css set `[hidden] { display: none !important; }` so we also need the `!important` here to be able to override the default hidden behavior on the sphinx rendered scikit-learn.org. See: https://github.com/scikit-learn/scikit-learn/issues/21755 */display: inline-block !important;position: relative;}#sk-container-id-1 div.sk-text-repr-fallback {display: none;}</style><div id=\"sk-container-id-1\" class=\"sk-top-container\"><div class=\"sk-text-repr-fallback\"><pre>XGBRegressor(base_score=None, booster=None, callbacks=None,\n",
       "             colsample_bylevel=None, colsample_bynode=None,\n",
       "             colsample_bytree=None, device=None, early_stopping_rounds=None,\n",
       "             enable_categorical=False, eval_metric=None, feature_types=None,\n",
       "             gamma=8, grow_policy=None, importance_type=None,\n",
       "             interaction_constraints=None, learning_rate=0.24, max_bin=None,\n",
       "             max_cat_threshold=None, max_cat_to_onehot=None,\n",
       "             max_delta_step=None, max_depth=10, max_leaves=None,\n",
       "             min_child_weight=3, missing=nan, monotone_constraints=None,\n",
       "             multi_strategy=None, n_estimators=None, n_jobs=None,\n",
       "             num_parallel_tree=None, random_state=None, ...)</pre><b>In a Jupyter environment, please rerun this cell to show the HTML representation or trust the notebook. <br />On GitHub, the HTML representation is unable to render, please try loading this page with nbviewer.org.</b></div><div class=\"sk-container\" hidden><div class=\"sk-item\"><div class=\"sk-estimator sk-toggleable\"><input class=\"sk-toggleable__control sk-hidden--visually\" id=\"sk-estimator-id-1\" type=\"checkbox\" checked><label for=\"sk-estimator-id-1\" class=\"sk-toggleable__label sk-toggleable__label-arrow\">XGBRegressor</label><div class=\"sk-toggleable__content\"><pre>XGBRegressor(base_score=None, booster=None, callbacks=None,\n",
       "             colsample_bylevel=None, colsample_bynode=None,\n",
       "             colsample_bytree=None, device=None, early_stopping_rounds=None,\n",
       "             enable_categorical=False, eval_metric=None, feature_types=None,\n",
       "             gamma=8, grow_policy=None, importance_type=None,\n",
       "             interaction_constraints=None, learning_rate=0.24, max_bin=None,\n",
       "             max_cat_threshold=None, max_cat_to_onehot=None,\n",
       "             max_delta_step=None, max_depth=10, max_leaves=None,\n",
       "             min_child_weight=3, missing=nan, monotone_constraints=None,\n",
       "             multi_strategy=None, n_estimators=None, n_jobs=None,\n",
       "             num_parallel_tree=None, random_state=None, ...)</pre></div></div></div></div></div>"
      ],
      "text/plain": [
       "XGBRegressor(base_score=None, booster=None, callbacks=None,\n",
       "             colsample_bylevel=None, colsample_bynode=None,\n",
       "             colsample_bytree=None, device=None, early_stopping_rounds=None,\n",
       "             enable_categorical=False, eval_metric=None, feature_types=None,\n",
       "             gamma=8, grow_policy=None, importance_type=None,\n",
       "             interaction_constraints=None, learning_rate=0.24, max_bin=None,\n",
       "             max_cat_threshold=None, max_cat_to_onehot=None,\n",
       "             max_delta_step=None, max_depth=10, max_leaves=None,\n",
       "             min_child_weight=3, missing=nan, monotone_constraints=None,\n",
       "             multi_strategy=None, n_estimators=None, n_jobs=None,\n",
       "             num_parallel_tree=None, random_state=None, ...)"
      ]
     },
     "execution_count": 5,
     "metadata": {},
     "output_type": "execute_result"
    }
   ],
   "source": [
    "\n",
    "# Split the data into training and validation sets\n",
    "\n",
    "x_train_a, x_val_a, y_train_a, y_val_a = train_test_split(X_frames_train[0], Y_frames_train[0], test_size=0.17, random_state=None)\n",
    "x_train_b, x_val_b, y_train_b, y_val_b = train_test_split(X_frames_train[1], Y_frames_train[1], test_size=0.17, random_state=None)\n",
    "x_train_c, x_val_c, y_train_c, y_val_c = train_test_split(X_frames_train[2], Y_frames_train[2], test_size=0.17, random_state=None)\n",
    "\n",
    "model_a = xgb.XGBRegressor(objective='reg:squarederror', random_state=None, learning_rate=0.25, max_depth=15, min_child_weight=3, gamma=8, reg_lambda=44)\n",
    "model_b = xgb.XGBRegressor(objective='reg:squarederror', random_state=None, learning_rate=0.25, max_depth=10, min_child_weight=4, gamma=34, reg_lambda=20)\n",
    "model_c = xgb.XGBRegressor(objective='reg:squarederror', random_state=None, learning_rate=0.24, max_depth=10, min_child_weight=3, gamma=8, reg_lambda=44)\n",
    "# max_depth = 6 gives best\n",
    "\n",
    "\n",
    "model_a.fit(x_train_a, y_train_a)\n",
    "model_b.fit(x_train_b, y_train_b)\n",
    "model_c.fit(x_train_c, y_train_c)\n",
    "\n"
   ]
  },
  {
   "cell_type": "markdown",
   "metadata": {},
   "source": [
    "# Evaluate prediction"
   ]
  },
  {
   "cell_type": "code",
   "execution_count": 6,
   "metadata": {},
   "outputs": [
    {
     "name": "stdout",
     "output_type": "stream",
     "text": [
      "MSE for A:  152142.9309509963\n",
      "MSE for B:  3800.655202913581\n",
      "MSE for C:  2637.166722211876\n",
      "Mean MSE:  52860.25095870725\n",
      "Score A:  0.8939208780307045\n",
      "Score B:  0.905450785281629\n",
      "Score C:  0.9149393602433711\n",
      "\n",
      "Model A\n",
      "                 Feature  Importance\n",
      "10          direct_rad:W    0.544118\n",
      "8          diffuse_rad:W    0.067302\n",
      "4        clear_sky_rad:W    0.041510\n",
      "33    snow_melt_10min:mm    0.031026\n",
      "48          cosinus_year    0.022969\n",
      "20      is_in_shadow:idx    0.020353\n",
      "23  precip_type_5min:idx    0.017036\n",
      "35         sun_azimuth:d    0.015271\n",
      "22        precip_5min:mm    0.014586\n",
      "45             sinus_day    0.013040\n",
      "\n",
      "Model B\n",
      "             Feature  Importance\n",
      "10      direct_rad:W    0.355808\n",
      "36   sun_elevation:d    0.135486\n",
      "4    clear_sky_rad:W    0.104658\n",
      "20  is_in_shadow:idx    0.094286\n",
      "48      cosinus_year    0.026637\n",
      "18  fresh_snow_6h:cm    0.024173\n",
      "8      diffuse_rad:W    0.022668\n",
      "19        is_day:idx    0.021480\n",
      "47        sinus_year    0.017070\n",
      "27   rain_water:kgm2    0.015288\n",
      "\n",
      "Model C\n",
      "                 Feature  Importance\n",
      "36       sun_elevation:d    0.622162\n",
      "4        clear_sky_rad:W    0.186129\n",
      "10          direct_rad:W    0.037790\n",
      "30     snow_density:kgm3    0.035218\n",
      "11       direct_rad_1h:J    0.017800\n",
      "14     fresh_snow_12h:cm    0.015099\n",
      "24     pressure_100m:hPa    0.007847\n",
      "16     fresh_snow_24h:cm    0.006074\n",
      "23  precip_type_5min:idx    0.005350\n",
      "38           t_1000hPa:K    0.004914\n",
      "\n"
     ]
    }
   ],
   "source": [
    "# Evaluate the model based on the validation data\n",
    "\n",
    "mse_a = mean_squared_error(y_val_a, model_a.predict(x_val_a))\n",
    "print(\"MSE for A: \", mse_a)\n",
    "mse_b = mean_squared_error(y_val_b, model_b.predict(x_val_b))\n",
    "print(\"MSE for B: \", mse_b)\n",
    "mse_c = mean_squared_error(y_val_c, model_c.predict(x_val_c))\n",
    "print(\"MSE for C: \", mse_c)\n",
    "print(\"Mean MSE: \", (mse_a + mse_b + mse_c) / 3)\n",
    "\n",
    "# Evaluate the predictions\n",
    "\n",
    "score_a = model_a.score(x_val_a, y_val_a)\n",
    "score_b = model_b.score(x_val_b, y_val_b)\n",
    "score_c = model_c.score(x_val_c, y_val_c)\n",
    "\n",
    "print(\"Score A: \", score_a)\n",
    "print(\"Score B: \", score_b)\n",
    "print(\"Score C: \", score_c)\n",
    "print('')\n",
    "\n",
    "# Get feature importance scores\n",
    "models = [(model_a, 'A'), (model_b, 'B'), (model_c, 'C')]\n",
    "for model in models:\n",
    "\n",
    "    feature_importance_scores = model[0].feature_importances_\n",
    "\n",
    "# Create a DataFrame to associate features with their importance scores\n",
    "    feature_importance_df1 = pd.DataFrame({'Feature': x_train_a.columns, 'Importance': feature_importance_scores})\n",
    "\n",
    "# Sort features by importance in descending order\n",
    "    feature_importance_df1 = feature_importance_df1.sort_values(by='Importance', ascending=False)\n",
    "\n",
    "# Print or visualize the feature importance scores\n",
    "    \n",
    "    print(f'Model {model[1]}')\n",
    "    print(feature_importance_df1.head(10))\n",
    "    print('')\n"
   ]
  },
  {
   "cell_type": "markdown",
   "metadata": {},
   "source": [
    "```\n",
    "Most_common = ['direct_rad:W', 'clear_sky_rad:W']\n",
    "\n",
    "MSE for A:  155326.11984010294\n",
    "MSE for B:  4311.822664627681\n",
    "MSE for C:  2484.332046556924\n",
    "Mean MSE:  54040.75818376252\n",
    "Score A:  0.8869367102250868\n",
    "Score B:  0.8880678863853381\n",
    "Score C:  0.9167532450100108\n",
    "\n",
    "Model A\n",
    "                 Feature  Importance\n",
    "9           direct_rad:W    0.558548 <-------- 3\n",
    "7          diffuse_rad:W    0.077622 <-------- 2\n",
    "18      is_in_shadow:idx    0.028293 <--------2\n",
    "3        clear_sky_rad:W    0.026308 <-------- 3\n",
    "40          cosinus_year    0.024731\n",
    "24     snow_density:kgm3    0.022149 <-------- 2\n",
    "29         sun_azimuth:d    0.021677\n",
    "20  precip_type_5min:idx    0.016280\n",
    "6         dew_point_2m:K    0.015750\n",
    "19        precip_5min:mm    0.014176 <-------- 2\n",
    "\n",
    "Model B\n",
    "             Feature  Importance\n",
    "9       direct_rad:W    0.369634     <--------- 3\n",
    "30   sun_elevation:d    0.165624     <-------- 2\n",
    "3    clear_sky_rad:W    0.084479     <--------- 3\n",
    "18  is_in_shadow:idx    0.074470     <---------\n",
    "17        is_day:idx    0.037519\n",
    "22   rain_water:kgm2    0.028054\n",
    "40      cosinus_year    0.024928\n",
    "7      diffuse_rad:W    0.019828     <--------- 2\n",
    "39        sinus_year    0.016917\n",
    "16  fresh_snow_6h:cm    0.015372     <-------- 1/2\n",
    "\n",
    "Model C\n",
    "                 Feature  Importance\n",
    "30       sun_elevation:d    0.737467 <--------- 2\n",
    "3        clear_sky_rad:W    0.110762 <--------- 3\n",
    "9           direct_rad:W    0.029844 <--------- 3\n",
    "10       direct_rad_1h:J    0.023283\n",
    "20  precip_type_5min:idx    0.010948\n",
    "12     fresh_snow_12h:cm    0.010607\n",
    "24     snow_density:kgm3    0.009615 <-------- 2\n",
    "14     fresh_snow_24h:cm    0.007877 <-------- 1/2\n",
    "6         dew_point_2m:K    0.005590\n",
    "19        precip_5min:mm    0.005087 <-------- 2\n",
    "```"
   ]
  },
  {
   "cell_type": "markdown",
   "metadata": {},
   "source": [
    "# Make predictions"
   ]
  },
  {
   "cell_type": "code",
   "execution_count": 7,
   "metadata": {},
   "outputs": [
    {
     "name": "stdout",
     "output_type": "stream",
     "text": [
      "720\n"
     ]
    }
   ],
   "source": [
    "\"\"\" \n",
    "model_a = xgb.XGBRegressor(objective='reg:squarederror', random_state=42, learning_rate=0.25, max_depth=10, min_child_weight=2, gamma=150, reg_lambda=20)\n",
    "model_b = xgb.XGBRegressor(objective='reg:squarederror', random_state=42, learning_rate=0.25, max_depth=10, min_child_weight=4, gamma=34, reg_lambda=20)\n",
    "model_c = xgb.XGBRegressor(objective='reg:squarederror', random_state=42, learning_rate=0.24, max_depth=10, min_child_weight=3, gamma=8, reg_lambda=44)\n",
    " \"\"\"\n",
    "# max_depth = 6 gives best\n",
    "model_a.fit(X_frames_train[0], Y_frames_train[0])\n",
    "model_b.fit(X_frames_train[1], Y_frames_train[1])\n",
    "model_c.fit(X_frames_train[2], Y_frames_train[2])\n",
    "\n",
    "y_pred_a = model_a.predict(X_frames_test[0])\n",
    "y_pred_b = model_b.predict(X_frames_test[1])\n",
    "y_pred_c = model_c.predict(X_frames_test[2])\n",
    "print(len(y_pred_a))\n",
    "\n",
    "y_pred = np.concatenate((y_pred_a, y_pred_b, y_pred_c), axis=0)\n",
    "\n"
   ]
  },
  {
   "cell_type": "code",
   "execution_count": 8,
   "metadata": {},
   "outputs": [
    {
     "name": "stdout",
     "output_type": "stream",
     "text": [
      "720 720\n",
      "720 720\n",
      "720 720\n"
     ]
    }
   ],
   "source": [
    "print(len(y_pred_a), len(X_frames_test[0]))\n",
    "print(len(y_pred_b), len(X_frames_test[1]))\n",
    "print(len(y_pred_c), len(X_frames_test[2]))"
   ]
  },
  {
   "cell_type": "code",
   "execution_count": null,
   "metadata": {},
   "outputs": [],
   "source": [
    "for i in range(len(y_pred)):\n",
    "    if y_pred[i] < 0: \n",
    "        y_pred[i] = 0\n",
    "\n"
   ]
  },
  {
   "cell_type": "markdown",
   "metadata": {},
   "source": [
    "# Create submission"
   ]
  },
  {
   "cell_type": "code",
   "execution_count": 9,
   "metadata": {},
   "outputs": [
    {
     "name": "stdout",
     "output_type": "stream",
     "text": [
      "2160\n"
     ]
    }
   ],
   "source": [
    "y_test_pred = y_pred\n",
    "print(len(y_test_pred))\n",
    "\n",
    "test = pd.read_csv('../data/test.csv')\n",
    "test['prediction'] = y_test_pred\n",
    "sample_submission = pd.read_csv('../data/sample_submission.csv')\n",
    "submission = sample_submission[['id']].merge(test[['id', 'prediction']], on='id', how='left')\n",
    "submission.to_csv('submission_2.csv', index=False)"
   ]
  }
 ],
 "metadata": {
  "kernelspec": {
   "display_name": "Python 3",
   "language": "python",
   "name": "python3"
  },
  "language_info": {
   "codemirror_mode": {
    "name": "ipython",
    "version": 3
   },
   "file_extension": ".py",
   "mimetype": "text/x-python",
   "name": "python",
   "nbconvert_exporter": "python",
   "pygments_lexer": "ipython3",
   "version": "3.9.16"
  },
  "orig_nbformat": 4
 },
 "nbformat": 4,
 "nbformat_minor": 2
}
