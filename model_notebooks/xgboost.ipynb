{
 "cells": [
  {
   "cell_type": "markdown",
   "metadata": {},
   "source": [
    "# Imports"
   ]
  },
  {
   "cell_type": "code",
   "execution_count": 1,
   "metadata": {},
   "outputs": [],
   "source": [
    "\n",
    "import pandas as pd\n",
    "import numpy as np\n",
    "import xgboost as xgb\n",
    "from sklearn.model_selection import train_test_split\n",
    "from sklearn.metrics import mean_absolute_error\n",
    "from sklearn.metrics import mean_squared_error\n",
    "\n",
    "import warnings\n",
    "import data_func.read_data as read_data\n",
    "warnings.filterwarnings(\"ignore\", category=FutureWarning, module=\"xgboost\")\n",
    "warnings.filterwarnings(\"ignore\", category=FutureWarning, message=\"is_sparse is deprecated\")\n",
    "\n"
   ]
  },
  {
   "cell_type": "markdown",
   "metadata": {},
   "source": [
    "# Load datasets"
   ]
  },
  {
   "cell_type": "code",
   "execution_count": 2,
   "metadata": {},
   "outputs": [],
   "source": [
    "dataframes = read_data.get_training_data()\n",
    "X_frames_train = dataframes[0]\n",
    "Y_frames_train = dataframes[1]\n",
    "X_frames_test = read_data.get_test_data()\n"
   ]
  },
  {
   "cell_type": "markdown",
   "metadata": {},
   "source": [
    "# Data clean up an aggregation"
   ]
  },
  {
   "cell_type": "code",
   "execution_count": 3,
   "metadata": {},
   "outputs": [
    {
     "name": "stdout",
     "output_type": "stream",
     "text": [
      "29667\n",
      "29667\n",
      "720\n"
     ]
    }
   ],
   "source": [
    "# making shure that target values line up with x_values\n",
    "\n",
    "def data_allign(x_train, y_train):\n",
    "  \n",
    "  y_train.dropna(inplace=True)\n",
    "  combined_data = pd.merge(x_train, y_train, left_on='date_forecast', right_on='time')\n",
    "  y_train = combined_data['pv_measurement']\n",
    "\n",
    "  if 'time' and 'pv_measurement' in combined_data.columns:\n",
    "    combined_data.drop(columns=['time', 'pv_measurement'], inplace=True)\n",
    "    \n",
    "  return combined_data, y_train\n",
    "\n",
    "import data_func.aggregation as data_agg\n",
    "\n",
    "categorical_features = ['dew_or_rime:idx', 'is_day:idx', 'is_in_shadow:idx', 'precip_type_5min:idx', 'snow_drift:idx']\n",
    "\n",
    "for i in range(len(X_frames_train)):\n",
    "\n",
    "  X_frames_train[i] = data_agg.gen_agg(X_frames_train[i], 'mean')\n",
    "  X_frames_train[i], Y_frames_train[i] = data_allign(X_frames_train[i], Y_frames_train[i])\n",
    "\n",
    "for j in range(len(X_frames_test)):\n",
    "    X_frames_test[j] = data_agg.gen_agg(X_frames_test[j], 'mean')\n",
    "\n",
    "print(len(X_frames_train[0]))\n",
    "print(len(Y_frames_train[0]))\n",
    "print(len(X_frames_test[0]))"
   ]
  },
  {
   "cell_type": "markdown",
   "metadata": {},
   "source": [
    "# Feature engineering"
   ]
  },
  {
   "cell_type": "code",
   "execution_count": 4,
   "metadata": {},
   "outputs": [],
   "source": [
    "import data_func.timeseasonality as DTS\n",
    "\n",
    "for i in range(len(X_frames_train)):\n",
    "    X_frames_train[i] = DTS.append_seasonal_columns(X_frames_train[i])\n",
    "    X_frames_train[i].drop(columns=['date_forecast'], inplace=True)\n",
    "    # X_frames_train[i].drop(columns=['absolute_humidity_2m:gm3'], inplace=True)\n",
    "    # X_frames_train[i].drop(columns=['air_density_2m:kgm3'], inplace=True)\n",
    "    # X_frames_train[i]['ceiling_height_agl:m'] = X_frames_train[i]['ceiling_height_agl:m'].fillna(0)\n",
    "    # X_frames_train[i]['cloud_base_agl:m'] = X_frames_train[i]['cloud_base_agl:m'].fillna(100000)\n",
    "\n",
    "\n",
    "for i in range(len(X_frames_test)):\n",
    "    X_frames_test[i] = DTS.append_seasonal_columns(X_frames_test[i])\n",
    "    X_frames_test[i].drop(columns=['date_forecast'], inplace=True)\n",
    "\n",
    "\n",
    "# print(X_frames_train[0]['ceiling_height_agl:m'].isnull().sum())"
   ]
  },
  {
   "cell_type": "markdown",
   "metadata": {},
   "source": [
    "# Training the model"
   ]
  },
  {
   "cell_type": "code",
   "execution_count": 5,
   "metadata": {},
   "outputs": [
    {
     "data": {
      "text/html": [
       "<style>#sk-container-id-1 {color: black;background-color: white;}#sk-container-id-1 pre{padding: 0;}#sk-container-id-1 div.sk-toggleable {background-color: white;}#sk-container-id-1 label.sk-toggleable__label {cursor: pointer;display: block;width: 100%;margin-bottom: 0;padding: 0.3em;box-sizing: border-box;text-align: center;}#sk-container-id-1 label.sk-toggleable__label-arrow:before {content: \"▸\";float: left;margin-right: 0.25em;color: #696969;}#sk-container-id-1 label.sk-toggleable__label-arrow:hover:before {color: black;}#sk-container-id-1 div.sk-estimator:hover label.sk-toggleable__label-arrow:before {color: black;}#sk-container-id-1 div.sk-toggleable__content {max-height: 0;max-width: 0;overflow: hidden;text-align: left;background-color: #f0f8ff;}#sk-container-id-1 div.sk-toggleable__content pre {margin: 0.2em;color: black;border-radius: 0.25em;background-color: #f0f8ff;}#sk-container-id-1 input.sk-toggleable__control:checked~div.sk-toggleable__content {max-height: 200px;max-width: 100%;overflow: auto;}#sk-container-id-1 input.sk-toggleable__control:checked~label.sk-toggleable__label-arrow:before {content: \"▾\";}#sk-container-id-1 div.sk-estimator input.sk-toggleable__control:checked~label.sk-toggleable__label {background-color: #d4ebff;}#sk-container-id-1 div.sk-label input.sk-toggleable__control:checked~label.sk-toggleable__label {background-color: #d4ebff;}#sk-container-id-1 input.sk-hidden--visually {border: 0;clip: rect(1px 1px 1px 1px);clip: rect(1px, 1px, 1px, 1px);height: 1px;margin: -1px;overflow: hidden;padding: 0;position: absolute;width: 1px;}#sk-container-id-1 div.sk-estimator {font-family: monospace;background-color: #f0f8ff;border: 1px dotted black;border-radius: 0.25em;box-sizing: border-box;margin-bottom: 0.5em;}#sk-container-id-1 div.sk-estimator:hover {background-color: #d4ebff;}#sk-container-id-1 div.sk-parallel-item::after {content: \"\";width: 100%;border-bottom: 1px solid gray;flex-grow: 1;}#sk-container-id-1 div.sk-label:hover label.sk-toggleable__label {background-color: #d4ebff;}#sk-container-id-1 div.sk-serial::before {content: \"\";position: absolute;border-left: 1px solid gray;box-sizing: border-box;top: 0;bottom: 0;left: 50%;z-index: 0;}#sk-container-id-1 div.sk-serial {display: flex;flex-direction: column;align-items: center;background-color: white;padding-right: 0.2em;padding-left: 0.2em;position: relative;}#sk-container-id-1 div.sk-item {position: relative;z-index: 1;}#sk-container-id-1 div.sk-parallel {display: flex;align-items: stretch;justify-content: center;background-color: white;position: relative;}#sk-container-id-1 div.sk-item::before, #sk-container-id-1 div.sk-parallel-item::before {content: \"\";position: absolute;border-left: 1px solid gray;box-sizing: border-box;top: 0;bottom: 0;left: 50%;z-index: -1;}#sk-container-id-1 div.sk-parallel-item {display: flex;flex-direction: column;z-index: 1;position: relative;background-color: white;}#sk-container-id-1 div.sk-parallel-item:first-child::after {align-self: flex-end;width: 50%;}#sk-container-id-1 div.sk-parallel-item:last-child::after {align-self: flex-start;width: 50%;}#sk-container-id-1 div.sk-parallel-item:only-child::after {width: 0;}#sk-container-id-1 div.sk-dashed-wrapped {border: 1px dashed gray;margin: 0 0.4em 0.5em 0.4em;box-sizing: border-box;padding-bottom: 0.4em;background-color: white;}#sk-container-id-1 div.sk-label label {font-family: monospace;font-weight: bold;display: inline-block;line-height: 1.2em;}#sk-container-id-1 div.sk-label-container {text-align: center;}#sk-container-id-1 div.sk-container {/* jupyter's `normalize.less` sets `[hidden] { display: none; }` but bootstrap.min.css set `[hidden] { display: none !important; }` so we also need the `!important` here to be able to override the default hidden behavior on the sphinx rendered scikit-learn.org. See: https://github.com/scikit-learn/scikit-learn/issues/21755 */display: inline-block !important;position: relative;}#sk-container-id-1 div.sk-text-repr-fallback {display: none;}</style><div id=\"sk-container-id-1\" class=\"sk-top-container\"><div class=\"sk-text-repr-fallback\"><pre>XGBRegressor(base_score=None, booster=None, callbacks=None,\n",
       "             colsample_bylevel=None, colsample_bynode=None,\n",
       "             colsample_bytree=0.8763563332327975, device=None,\n",
       "             early_stopping_rounds=None, enable_categorical=False,\n",
       "             eval_metric=None, feature_types=None, gamma=None, grow_policy=None,\n",
       "             importance_type=None, interaction_constraints=None,\n",
       "             learning_rate=0.08609213174337473, max_bin=None,\n",
       "             max_cat_threshold=None, max_cat_to_onehot=None,\n",
       "             max_delta_step=None, max_depth=8, max_leaves=None,\n",
       "             min_child_weight=None, missing=nan, monotone_constraints=None,\n",
       "             multi_strategy=None, n_estimators=727, n_jobs=None,\n",
       "             num_parallel_tree=None, random_state=42, ...)</pre><b>In a Jupyter environment, please rerun this cell to show the HTML representation or trust the notebook. <br />On GitHub, the HTML representation is unable to render, please try loading this page with nbviewer.org.</b></div><div class=\"sk-container\" hidden><div class=\"sk-item\"><div class=\"sk-estimator sk-toggleable\"><input class=\"sk-toggleable__control sk-hidden--visually\" id=\"sk-estimator-id-1\" type=\"checkbox\" checked><label for=\"sk-estimator-id-1\" class=\"sk-toggleable__label sk-toggleable__label-arrow\">XGBRegressor</label><div class=\"sk-toggleable__content\"><pre>XGBRegressor(base_score=None, booster=None, callbacks=None,\n",
       "             colsample_bylevel=None, colsample_bynode=None,\n",
       "             colsample_bytree=0.8763563332327975, device=None,\n",
       "             early_stopping_rounds=None, enable_categorical=False,\n",
       "             eval_metric=None, feature_types=None, gamma=None, grow_policy=None,\n",
       "             importance_type=None, interaction_constraints=None,\n",
       "             learning_rate=0.08609213174337473, max_bin=None,\n",
       "             max_cat_threshold=None, max_cat_to_onehot=None,\n",
       "             max_delta_step=None, max_depth=8, max_leaves=None,\n",
       "             min_child_weight=None, missing=nan, monotone_constraints=None,\n",
       "             multi_strategy=None, n_estimators=727, n_jobs=None,\n",
       "             num_parallel_tree=None, random_state=42, ...)</pre></div></div></div></div></div>"
      ],
      "text/plain": [
       "XGBRegressor(base_score=None, booster=None, callbacks=None,\n",
       "             colsample_bylevel=None, colsample_bynode=None,\n",
       "             colsample_bytree=0.8763563332327975, device=None,\n",
       "             early_stopping_rounds=None, enable_categorical=False,\n",
       "             eval_metric=None, feature_types=None, gamma=None, grow_policy=None,\n",
       "             importance_type=None, interaction_constraints=None,\n",
       "             learning_rate=0.08609213174337473, max_bin=None,\n",
       "             max_cat_threshold=None, max_cat_to_onehot=None,\n",
       "             max_delta_step=None, max_depth=8, max_leaves=None,\n",
       "             min_child_weight=None, missing=nan, monotone_constraints=None,\n",
       "             multi_strategy=None, n_estimators=727, n_jobs=None,\n",
       "             num_parallel_tree=None, random_state=42, ...)"
      ]
     },
     "execution_count": 5,
     "metadata": {},
     "output_type": "execute_result"
    }
   ],
   "source": [
    "\n",
    "# Split the data into training and validation sets\n",
    "\n",
    "x_train_a, x_val_a, y_train_a, y_val_a = train_test_split(X_frames_train[0], Y_frames_train[0], test_size=0.17, random_state=42)\n",
    "x_train_b, x_val_b, y_train_b, y_val_b = train_test_split(X_frames_train[1], Y_frames_train[1], test_size=0.17, random_state=42)\n",
    "x_train_c, x_val_c, y_train_c, y_val_c = train_test_split(X_frames_train[2], Y_frames_train[2], test_size=0.17, random_state=42)\n",
    "\n",
    "# Use params from hyperparameter tuning using optuna\n",
    "params_a = {'random_state': 42, 'n_estimators': 980, 'max_depth': 9, 'learning_rate': 0.029035565559484028, 'subsample': 0.8393121619033767, 'colsample_bytree': 0.7589542758688459}\n",
    "params_b = {'random_state': 42, 'n_estimators': 955, 'max_depth': 9, 'learning_rate': 0.02949625834198986, 'subsample': 0.8030196155828968, 'colsample_bytree': 0.72518389089994}\n",
    "params_c = {'random_state': 42, 'n_estimators': 727, 'max_depth': 8, 'learning_rate': 0.08609213174337473, 'subsample': 0.8107057409889747, 'colsample_bytree': 0.8763563332327975}\n",
    "model_a = xgb.XGBRegressor(**params_a)\n",
    "model_b = xgb.XGBRegressor(**params_b)\n",
    "model_c = xgb.XGBRegressor(**params_c)\n",
    "\n",
    "\n",
    "model_a.fit(x_train_a, y_train_a)\n",
    "model_b.fit(x_train_b, y_train_b)\n",
    "model_c.fit(x_train_c, y_train_c)\n",
    "\n"
   ]
  },
  {
   "cell_type": "markdown",
   "metadata": {},
   "source": [
    "# Evaluate prediction"
   ]
  },
  {
   "cell_type": "code",
   "execution_count": 6,
   "metadata": {},
   "outputs": [
    {
     "name": "stdout",
     "output_type": "stream",
     "text": [
      "MSE for A:  137518.26166559674\n",
      "MSE for B:  3448.1435716738315\n",
      "MSE for C:  2268.406671189064\n",
      "Mean MSE:  47744.93730281988\n",
      "Score A:  0.8998992115167396\n",
      "Score B:  0.9104884342321188\n",
      "Score C:  0.9239886251776022\n",
      "\n",
      "Model A\n",
      "                           Feature  Importance\n",
      "10                    direct_rad:W    0.393024\n",
      "11                 direct_rad_1h:J    0.088667\n",
      "8                    diffuse_rad:W    0.046811\n",
      "4                  clear_sky_rad:W    0.033618\n",
      "30               snow_density:kgm3    0.033447\n",
      "48                    cosinus_year    0.022810\n",
      "35                   sun_azimuth:d    0.022805\n",
      "20                is_in_shadow:idx    0.022503\n",
      "22                  precip_5min:mm    0.020224\n",
      "36                 sun_elevation:d    0.019554\n",
      "16               fresh_snow_24h:cm    0.019307\n",
      "23            precip_type_5min:idx    0.019251\n",
      "19                      is_day:idx    0.015278\n",
      "46                     cosinus_day    0.013366\n",
      "45                       sinus_day    0.013337\n",
      "31                   snow_depth:cm    0.012223\n",
      "33              snow_melt_10min:mm    0.010466\n",
      "47                      sinus_year    0.010093\n",
      "17                fresh_snow_3h:cm    0.009274\n",
      "7                   dew_point_2m:K    0.008773\n",
      "40                    visibility:m    0.008699\n",
      "38                     t_1000hPa:K    0.008638\n",
      "42             wind_speed_u_10m:ms    0.008505\n",
      "29                sfc_pressure:hPa    0.008450\n",
      "39             total_cloud_cover:p    0.008327\n",
      "14               fresh_snow_12h:cm    0.008321\n",
      "37  super_cooled_liquid_water:kgm2    0.007974\n",
      "12         effective_cloud_cover:p    0.007657\n",
      "34                 snow_water:kgm2    0.007337\n",
      "41               wind_speed_10m:ms    0.006985\n",
      "6                  dew_or_rime:idx    0.006955\n",
      "43             wind_speed_v_10m:ms    0.006921\n",
      "24               pressure_100m:hPa    0.006914\n",
      "9                 diffuse_rad_1h:J    0.006676\n",
      "21                msl_pressure:hPa    0.006327\n",
      "25                pressure_50m:hPa    0.005956\n",
      "18                fresh_snow_6h:cm    0.005783\n",
      "28     relative_humidity_1000hPa:p    0.005587\n",
      "5                 cloud_base_agl:m    0.005418\n",
      "15                fresh_snow_1h:cm    0.005068\n",
      "27                 rain_water:kgm2    0.005042\n",
      "26                     prob_rime:p    0.004482\n",
      "2             ceiling_height_agl:m    0.004393\n",
      "3            clear_sky_energy_1h:J    0.003192\n",
      "1              air_density_2m:kgm3    0.003091\n",
      "0         absolute_humidity_2m:gm3    0.002428\n",
      "44         wind_speed_w_1000hPa:ms    0.000045\n",
      "13                     elevation:m    0.000000\n",
      "32                  snow_drift:idx    0.000000\n",
      "Model B\n",
      "                           Feature  Importance\n",
      "10                    direct_rad:W    0.228444\n",
      "4                  clear_sky_rad:W    0.132216\n",
      "36                 sun_elevation:d    0.105167\n",
      "19                      is_day:idx    0.075935\n",
      "20                is_in_shadow:idx    0.072323\n",
      "18                fresh_snow_6h:cm    0.029936\n",
      "11                 direct_rad_1h:J    0.028657\n",
      "16               fresh_snow_24h:cm    0.027781\n",
      "14               fresh_snow_12h:cm    0.026200\n",
      "48                    cosinus_year    0.023071\n",
      "47                      sinus_year    0.018569\n",
      "27                 rain_water:kgm2    0.014923\n",
      "8                    diffuse_rad:W    0.014469\n",
      "35                   sun_azimuth:d    0.012542\n",
      "22                  precip_5min:mm    0.011879\n",
      "29                sfc_pressure:hPa    0.010779\n",
      "45                       sinus_day    0.009553\n",
      "5                 cloud_base_agl:m    0.009084\n",
      "21                msl_pressure:hPa    0.008311\n",
      "23            precip_type_5min:idx    0.007783\n",
      "46                     cosinus_day    0.007484\n",
      "7                   dew_point_2m:K    0.007361\n",
      "17                fresh_snow_3h:cm    0.007353\n",
      "34                 snow_water:kgm2    0.007044\n",
      "40                    visibility:m    0.006973\n",
      "38                     t_1000hPa:K    0.006871\n",
      "9                 diffuse_rad_1h:J    0.006855\n",
      "24               pressure_100m:hPa    0.006718\n",
      "15                fresh_snow_1h:cm    0.006038\n",
      "37  super_cooled_liquid_water:kgm2    0.005972\n",
      "39             total_cloud_cover:p    0.005854\n",
      "42             wind_speed_u_10m:ms    0.005760\n",
      "12         effective_cloud_cover:p    0.005226\n",
      "25                pressure_50m:hPa    0.005128\n",
      "2             ceiling_height_agl:m    0.004959\n",
      "28     relative_humidity_1000hPa:p    0.004950\n",
      "3            clear_sky_energy_1h:J    0.004832\n",
      "43             wind_speed_v_10m:ms    0.004645\n",
      "31                   snow_depth:cm    0.004449\n",
      "41               wind_speed_10m:ms    0.004178\n",
      "30               snow_density:kgm3    0.003959\n",
      "1              air_density_2m:kgm3    0.002928\n",
      "0         absolute_humidity_2m:gm3    0.002860\n",
      "44         wind_speed_w_1000hPa:ms    0.001725\n",
      "26                     prob_rime:p    0.000836\n",
      "33              snow_melt_10min:mm    0.000742\n",
      "6                  dew_or_rime:idx    0.000677\n",
      "13                     elevation:m    0.000000\n",
      "32                  snow_drift:idx    0.000000\n",
      "Model C\n",
      "                           Feature  Importance\n",
      "36                 sun_elevation:d    0.592812\n",
      "4                  clear_sky_rad:W    0.124728\n",
      "10                    direct_rad:W    0.060297\n",
      "30               snow_density:kgm3    0.035409\n",
      "11                 direct_rad_1h:J    0.022565\n",
      "22                  precip_5min:mm    0.014727\n",
      "23            precip_type_5min:idx    0.013222\n",
      "3            clear_sky_energy_1h:J    0.012529\n",
      "38                     t_1000hPa:K    0.009154\n",
      "16               fresh_snow_24h:cm    0.008071\n",
      "14               fresh_snow_12h:cm    0.008035\n",
      "27                 rain_water:kgm2    0.007223\n",
      "24               pressure_100m:hPa    0.006273\n",
      "48                    cosinus_year    0.006023\n",
      "21                msl_pressure:hPa    0.005630\n",
      "34                 snow_water:kgm2    0.005186\n",
      "47                      sinus_year    0.004748\n",
      "7                   dew_point_2m:K    0.004673\n",
      "40                    visibility:m    0.004349\n",
      "39             total_cloud_cover:p    0.004192\n",
      "44         wind_speed_w_1000hPa:ms    0.004108\n",
      "12         effective_cloud_cover:p    0.003955\n",
      "28     relative_humidity_1000hPa:p    0.003946\n",
      "42             wind_speed_u_10m:ms    0.003786\n",
      "25                pressure_50m:hPa    0.003534\n",
      "9                 diffuse_rad_1h:J    0.003248\n",
      "43             wind_speed_v_10m:ms    0.002968\n",
      "8                    diffuse_rad:W    0.002890\n",
      "41               wind_speed_10m:ms    0.002827\n",
      "37  super_cooled_liquid_water:kgm2    0.002768\n",
      "5                 cloud_base_agl:m    0.002695\n",
      "35                   sun_azimuth:d    0.002512\n",
      "29                sfc_pressure:hPa    0.002161\n",
      "2             ceiling_height_agl:m    0.001945\n",
      "1              air_density_2m:kgm3    0.001374\n",
      "0         absolute_humidity_2m:gm3    0.001312\n",
      "45                       sinus_day    0.001231\n",
      "46                     cosinus_day    0.001147\n",
      "33              snow_melt_10min:mm    0.000917\n",
      "31                   snow_depth:cm    0.000360\n",
      "18                fresh_snow_6h:cm    0.000122\n",
      "6                  dew_or_rime:idx    0.000114\n",
      "20                is_in_shadow:idx    0.000091\n",
      "26                     prob_rime:p    0.000084\n",
      "19                      is_day:idx    0.000035\n",
      "17                fresh_snow_3h:cm    0.000020\n",
      "15                fresh_snow_1h:cm    0.000007\n",
      "13                     elevation:m    0.000000\n",
      "32                  snow_drift:idx    0.000000\n"
     ]
    }
   ],
   "source": [
    "# Evaluate the model based on the validation data\n",
    "\n",
    "mse_a = mean_squared_error(y_val_a, model_a.predict(x_val_a))\n",
    "print(\"MSE for A: \", mse_a)\n",
    "mse_b = mean_squared_error(y_val_b, model_b.predict(x_val_b))\n",
    "print(\"MSE for B: \", mse_b)\n",
    "mse_c = mean_squared_error(y_val_c, model_c.predict(x_val_c))\n",
    "print(\"MSE for C: \", mse_c)\n",
    "print(\"Mean MSE: \", (mse_a + mse_b + mse_c) / 3)\n",
    "\n",
    "# Evaluate the predictions\n",
    "\n",
    "score_a = model_a.score(x_val_a, y_val_a)\n",
    "score_b = model_b.score(x_val_b, y_val_b)\n",
    "score_c = model_c.score(x_val_c, y_val_c)\n",
    "\n",
    "print(\"Score A: \", score_a)\n",
    "print(\"Score B: \", score_b)\n",
    "print(\"Score C: \", score_c)\n",
    "print('')\n",
    "\n",
    "# Get feature importance scores\n",
    "models = [(model_a, 'A'), (model_b, 'B'), (model_c, 'C')]\n",
    "for model in models:\n",
    "\n",
    "    feature_importance_scores = model[0].feature_importances_\n",
    "\n",
    "# Create a DataFrame to associate features with their importance scores\n",
    "    feature_importance_df1 = pd.DataFrame({'Feature': x_train_a.columns, 'Importance': feature_importance_scores})\n",
    "\n",
    "# Sort features by importance in descending order\n",
    "    feature_importance_df1 = feature_importance_df1.sort_values(by='Importance', ascending=False)\n",
    "\n",
    "# Print or visualize the feature importance scores\n",
    "    pd.set_option('display.max_rows', 500)\n",
    "    feature_importance_df1.head(500)\n",
    "    print(f'Model {model[1]}')\n",
    "    print(feature_importance_df1)\n",
    "    pd.reset_option('display.max_rows')\n"
   ]
  },
  {
   "cell_type": "markdown",
   "metadata": {},
   "source": [
    "```\n",
    "Most_common = ['direct_rad:W', 'clear_sky_rad:W']\n",
    "\n",
    "MSE for A:  155326.11984010294\n",
    "MSE for B:  4311.822664627681\n",
    "MSE for C:  2484.332046556924\n",
    "Mean MSE:  54040.75818376252\n",
    "Score A:  0.8869367102250868\n",
    "Score B:  0.8880678863853381\n",
    "Score C:  0.9167532450100108\n",
    "\n",
    "Model A\n",
    "                 Feature  Importance\n",
    "9           direct_rad:W    0.558548 <-------- 3\n",
    "7          diffuse_rad:W    0.077622 <-------- 2\n",
    "18      is_in_shadow:idx    0.028293 <--------2\n",
    "3        clear_sky_rad:W    0.026308 <-------- 3\n",
    "40          cosinus_year    0.024731\n",
    "24     snow_density:kgm3    0.022149 <-------- 2\n",
    "29         sun_azimuth:d    0.021677\n",
    "20  precip_type_5min:idx    0.016280\n",
    "6         dew_point_2m:K    0.015750\n",
    "19        precip_5min:mm    0.014176 <-------- 2\n",
    "\n",
    "Model B\n",
    "             Feature  Importance\n",
    "9       direct_rad:W    0.369634     <--------- 3\n",
    "30   sun_elevation:d    0.165624     <-------- 2\n",
    "3    clear_sky_rad:W    0.084479     <--------- 3\n",
    "18  is_in_shadow:idx    0.074470     <---------\n",
    "17        is_day:idx    0.037519\n",
    "22   rain_water:kgm2    0.028054\n",
    "40      cosinus_year    0.024928\n",
    "7      diffuse_rad:W    0.019828     <--------- 2\n",
    "39        sinus_year    0.016917\n",
    "16  fresh_snow_6h:cm    0.015372     <-------- 1/2\n",
    "\n",
    "Model C\n",
    "                 Feature  Importance\n",
    "30       sun_elevation:d    0.737467 <--------- 2\n",
    "3        clear_sky_rad:W    0.110762 <--------- 3\n",
    "9           direct_rad:W    0.029844 <--------- 3\n",
    "10       direct_rad_1h:J    0.023283\n",
    "20  precip_type_5min:idx    0.010948\n",
    "12     fresh_snow_12h:cm    0.010607\n",
    "24     snow_density:kgm3    0.009615 <-------- 2\n",
    "14     fresh_snow_24h:cm    0.007877 <-------- 1/2\n",
    "6         dew_point_2m:K    0.005590\n",
    "19        precip_5min:mm    0.005087 <-------- 2\n",
    "```"
   ]
  },
  {
   "cell_type": "markdown",
   "metadata": {},
   "source": [
    "# Make predictions"
   ]
  },
  {
   "cell_type": "code",
   "execution_count": 52,
   "metadata": {},
   "outputs": [
    {
     "name": "stdout",
     "output_type": "stream",
     "text": [
      "720\n"
     ]
    }
   ],
   "source": [
    "# Train the model on the entire training data\n",
    "model_a.fit(X_frames_train[0], Y_frames_train[0])\n",
    "model_b.fit(X_frames_train[1], Y_frames_train[1])\n",
    "model_c.fit(X_frames_train[2], Y_frames_train[2])\n",
    "\n",
    "y_pred_a = model_a.predict(X_frames_test[0])\n",
    "y_pred_b = model_b.predict(X_frames_test[1])\n",
    "y_pred_c = model_c.predict(X_frames_test[2])\n",
    "print(len(y_pred_a))\n",
    "\n",
    "y_pred = np.concatenate((y_pred_a, y_pred_b, y_pred_c), axis=0)\n",
    "\n"
   ]
  },
  {
   "cell_type": "code",
   "execution_count": 53,
   "metadata": {},
   "outputs": [
    {
     "name": "stdout",
     "output_type": "stream",
     "text": [
      "720 720\n",
      "720 720\n",
      "720 720\n"
     ]
    }
   ],
   "source": [
    "print(len(y_pred_a), len(X_frames_test[0]))\n",
    "print(len(y_pred_b), len(X_frames_test[1]))\n",
    "print(len(y_pred_c), len(X_frames_test[2]))"
   ]
  },
  {
   "cell_type": "code",
   "execution_count": 54,
   "metadata": {},
   "outputs": [],
   "source": [
    "for i in range(len(y_pred)):\n",
    "    if y_pred[i] < 0: \n",
    "        y_pred[i] = 0\n",
    "\n"
   ]
  },
  {
   "cell_type": "markdown",
   "metadata": {},
   "source": []
  },
  {
   "cell_type": "markdown",
   "metadata": {},
   "source": [
    "# Create submission"
   ]
  },
  {
   "cell_type": "code",
   "execution_count": 55,
   "metadata": {},
   "outputs": [
    {
     "name": "stdout",
     "output_type": "stream",
     "text": [
      "2160\n"
     ]
    }
   ],
   "source": [
    "y_test_pred = y_pred\n",
    "print(len(y_test_pred))\n",
    "\n",
    "test = pd.read_csv('../data/test.csv')\n",
    "test['prediction'] = y_test_pred\n",
    "sample_submission = pd.read_csv('../data/sample_submission.csv')\n",
    "submission = sample_submission[['id']].merge(test[['id', 'prediction']], on='id', how='left')\n",
    "submission.to_csv('submission.csv', index=False)"
   ]
  }
 ],
 "metadata": {
  "kernelspec": {
   "display_name": "Python 3",
   "language": "python",
   "name": "python3"
  },
  "language_info": {
   "codemirror_mode": {
    "name": "ipython",
    "version": 3
   },
   "file_extension": ".py",
   "mimetype": "text/x-python",
   "name": "python",
   "nbconvert_exporter": "python",
   "pygments_lexer": "ipython3",
   "version": "3.9.6"
  },
  "orig_nbformat": 4
 },
 "nbformat": 4,
 "nbformat_minor": 2
}
