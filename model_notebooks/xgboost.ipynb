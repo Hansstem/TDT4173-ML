{
 "cells": [
  {
   "cell_type": "markdown",
   "metadata": {},
   "source": [
    "# Imports"
   ]
  },
  {
   "cell_type": "code",
   "execution_count": 1,
   "metadata": {},
   "outputs": [],
   "source": [
    "\n",
    "import pandas as pd\n",
    "import numpy as np\n",
    "import xgboost as xgb\n",
    "from sklearn.model_selection import train_test_split\n",
    "from sklearn.metrics import mean_absolute_error\n",
    "from sklearn.metrics import mean_squared_error\n",
    "\n",
    "import warnings\n",
    "import data_func.read_data as read_data\n",
    "warnings.filterwarnings(\"ignore\", category=FutureWarning, module=\"xgboost\")\n",
    "warnings.filterwarnings(\"ignore\", category=FutureWarning, message=\"is_sparse is deprecated\")\n",
    "\n"
   ]
  },
  {
   "cell_type": "markdown",
   "metadata": {},
   "source": [
    "# Load datasets"
   ]
  },
  {
   "cell_type": "code",
   "execution_count": 2,
   "metadata": {},
   "outputs": [],
   "source": [
    "dataframes = read_data.get_training_data()\n",
    "X_frames_train = dataframes[0]\n",
    "Y_frames_train = dataframes[1]\n",
    "X_frames_test = read_data.get_test_data()\n"
   ]
  },
  {
   "cell_type": "markdown",
   "metadata": {},
   "source": [
    "# Data clean up an aggregation"
   ]
  },
  {
   "cell_type": "code",
   "execution_count": 3,
   "metadata": {},
   "outputs": [
    {
     "name": "stdout",
     "output_type": "stream",
     "text": [
      "29667\n",
      "29667\n",
      "720\n"
     ]
    }
   ],
   "source": [
    "# making shure that target values line up with x_values\n",
    "\n",
    "def data_allign(x_train, y_train):\n",
    "  \n",
    "  y_train.dropna(inplace=True)\n",
    "  combined_data = pd.merge(x_train, y_train, left_on='date_forecast', right_on='time')\n",
    "  y_train = combined_data['pv_measurement']\n",
    "\n",
    "  if 'time' and 'pv_measurement' in combined_data.columns:\n",
    "    combined_data.drop(columns=['time', 'pv_measurement'], inplace=True)\n",
    "    \n",
    "  return combined_data, y_train\n",
    "\n",
    "import data_func.aggregation as data_agg\n",
    "\n",
    "categorical_features = ['dew_or_rime:idx', 'is_day:idx', 'is_in_shadow:idx', 'precip_type_5min:idx', 'snow_drift:idx']\n",
    "\n",
    "for i in range(len(X_frames_train)):\n",
    "\n",
    "  X_frames_train[i] = data_agg.gen_agg(X_frames_train[i], 'mean')\n",
    "  X_frames_train[i], Y_frames_train[i] = data_allign(X_frames_train[i], Y_frames_train[i])\n",
    "\n",
    "for j in range(len(X_frames_test)):\n",
    "    X_frames_test[j] = data_agg.gen_agg(X_frames_test[j], 'mean')\n",
    "\n",
    "print(len(X_frames_train[0]))\n",
    "print(len(Y_frames_train[0]))\n",
    "print(len(X_frames_test[0]))"
   ]
  },
  {
   "cell_type": "markdown",
   "metadata": {},
   "source": [
    "# Feature engineering"
   ]
  },
  {
   "cell_type": "code",
   "execution_count": 4,
   "metadata": {},
   "outputs": [],
   "source": [
    "import data_func.timeseasonality as DTS\n",
    "import data_func.date_forecast as DTF\n",
    "\n",
    "for i in range(len(X_frames_train)):\n",
    "    X_frames_train[i] = DTS.append_seasonal_columns(X_frames_train[i])\n",
    "    X_frames_train[i] = DTF.date_forecast_columns(X_frames_train[i])\n",
    "    # X_frames_train[i].drop(columns=['absolute_humidity_2m:gm3'], inplace=True)\n",
    "    # X_frames_train[i].drop(columns=['air_density_2m:kgm3'], inplace=True)\n",
    "    # X_frames_train[i]['ceiling_height_agl:m'] = X_frames_train[i]['ceiling_height_agl:m'].fillna(0)\n",
    "    # X_frames_train[i]['cloud_base_agl:m'] = X_frames_train[i]['cloud_base_agl:m'].fillna(100000)\n",
    "\n",
    "\n",
    "\n",
    "for i in range(len(X_frames_test)):\n",
    "    X_frames_test[i] = DTS.append_seasonal_columns(X_frames_test[i])\n",
    "    X_frames_test[i] = DTF.date_forecast_columns(X_frames_test[i])\n",
    "\n",
    "\n",
    "# print(X_frames_train[0]['ceiling_height_agl:m'].isnull().sum())"
   ]
  },
  {
   "cell_type": "markdown",
   "metadata": {},
   "source": [
    "# Training the model"
   ]
  },
  {
   "cell_type": "code",
   "execution_count": 5,
   "metadata": {},
   "outputs": [
    {
     "ename": "KeyboardInterrupt",
     "evalue": "",
     "output_type": "error",
     "traceback": [
      "\u001b[0;31m---------------------------------------------------------------------------\u001b[0m",
      "\u001b[0;31mKeyboardInterrupt\u001b[0m                         Traceback (most recent call last)",
      "\u001b[0;32m<ipython-input-5-72f5d39d08cf>\u001b[0m in \u001b[0;36m<module>\u001b[0;34m\u001b[0m\n\u001b[1;32m     14\u001b[0m \u001b[0;34m\u001b[0m\u001b[0m\n\u001b[1;32m     15\u001b[0m \u001b[0;34m\u001b[0m\u001b[0m\n\u001b[0;32m---> 16\u001b[0;31m \u001b[0mmodel_a\u001b[0m\u001b[0;34m.\u001b[0m\u001b[0mfit\u001b[0m\u001b[0;34m(\u001b[0m\u001b[0mx_train_a\u001b[0m\u001b[0;34m,\u001b[0m \u001b[0my_train_a\u001b[0m\u001b[0;34m)\u001b[0m\u001b[0;34m\u001b[0m\u001b[0;34m\u001b[0m\u001b[0m\n\u001b[0m\u001b[1;32m     17\u001b[0m \u001b[0mmodel_b\u001b[0m\u001b[0;34m.\u001b[0m\u001b[0mfit\u001b[0m\u001b[0;34m(\u001b[0m\u001b[0mx_train_b\u001b[0m\u001b[0;34m,\u001b[0m \u001b[0my_train_b\u001b[0m\u001b[0;34m)\u001b[0m\u001b[0;34m\u001b[0m\u001b[0;34m\u001b[0m\u001b[0m\n\u001b[1;32m     18\u001b[0m \u001b[0mmodel_c\u001b[0m\u001b[0;34m.\u001b[0m\u001b[0mfit\u001b[0m\u001b[0;34m(\u001b[0m\u001b[0mx_train_c\u001b[0m\u001b[0;34m,\u001b[0m \u001b[0my_train_c\u001b[0m\u001b[0;34m)\u001b[0m\u001b[0;34m\u001b[0m\u001b[0;34m\u001b[0m\u001b[0m\n",
      "\u001b[0;32m/Library/Frameworks/Python.framework/Versions/3.9/lib/python3.9/site-packages/xgboost/core.py\u001b[0m in \u001b[0;36minner_f\u001b[0;34m(*args, **kwargs)\u001b[0m\n\u001b[1;32m    727\u001b[0m             \u001b[0;32mfor\u001b[0m \u001b[0mk\u001b[0m\u001b[0;34m,\u001b[0m \u001b[0marg\u001b[0m \u001b[0;32min\u001b[0m \u001b[0mzip\u001b[0m\u001b[0;34m(\u001b[0m\u001b[0msig\u001b[0m\u001b[0;34m.\u001b[0m\u001b[0mparameters\u001b[0m\u001b[0;34m,\u001b[0m \u001b[0margs\u001b[0m\u001b[0;34m)\u001b[0m\u001b[0;34m:\u001b[0m\u001b[0;34m\u001b[0m\u001b[0;34m\u001b[0m\u001b[0m\n\u001b[1;32m    728\u001b[0m                 \u001b[0mkwargs\u001b[0m\u001b[0;34m[\u001b[0m\u001b[0mk\u001b[0m\u001b[0;34m]\u001b[0m \u001b[0;34m=\u001b[0m \u001b[0marg\u001b[0m\u001b[0;34m\u001b[0m\u001b[0;34m\u001b[0m\u001b[0m\n\u001b[0;32m--> 729\u001b[0;31m             \u001b[0;32mreturn\u001b[0m \u001b[0mfunc\u001b[0m\u001b[0;34m(\u001b[0m\u001b[0;34m**\u001b[0m\u001b[0mkwargs\u001b[0m\u001b[0;34m)\u001b[0m\u001b[0;34m\u001b[0m\u001b[0;34m\u001b[0m\u001b[0m\n\u001b[0m\u001b[1;32m    730\u001b[0m \u001b[0;34m\u001b[0m\u001b[0m\n\u001b[1;32m    731\u001b[0m         \u001b[0;32mreturn\u001b[0m \u001b[0minner_f\u001b[0m\u001b[0;34m\u001b[0m\u001b[0;34m\u001b[0m\u001b[0m\n",
      "\u001b[0;32m/Library/Frameworks/Python.framework/Versions/3.9/lib/python3.9/site-packages/xgboost/sklearn.py\u001b[0m in \u001b[0;36mfit\u001b[0;34m(self, X, y, sample_weight, base_margin, eval_set, eval_metric, early_stopping_rounds, verbose, xgb_model, sample_weight_eval_set, base_margin_eval_set, feature_weights, callbacks)\u001b[0m\n\u001b[1;32m   1084\u001b[0m                 \u001b[0mxgb_model\u001b[0m\u001b[0;34m,\u001b[0m \u001b[0meval_metric\u001b[0m\u001b[0;34m,\u001b[0m \u001b[0mparams\u001b[0m\u001b[0;34m,\u001b[0m \u001b[0mearly_stopping_rounds\u001b[0m\u001b[0;34m,\u001b[0m \u001b[0mcallbacks\u001b[0m\u001b[0;34m\u001b[0m\u001b[0;34m\u001b[0m\u001b[0m\n\u001b[1;32m   1085\u001b[0m             )\n\u001b[0;32m-> 1086\u001b[0;31m             self._Booster = train(\n\u001b[0m\u001b[1;32m   1087\u001b[0m                 \u001b[0mparams\u001b[0m\u001b[0;34m,\u001b[0m\u001b[0;34m\u001b[0m\u001b[0;34m\u001b[0m\u001b[0m\n\u001b[1;32m   1088\u001b[0m                 \u001b[0mtrain_dmatrix\u001b[0m\u001b[0;34m,\u001b[0m\u001b[0;34m\u001b[0m\u001b[0;34m\u001b[0m\u001b[0m\n",
      "\u001b[0;32m/Library/Frameworks/Python.framework/Versions/3.9/lib/python3.9/site-packages/xgboost/core.py\u001b[0m in \u001b[0;36minner_f\u001b[0;34m(*args, **kwargs)\u001b[0m\n\u001b[1;32m    727\u001b[0m             \u001b[0;32mfor\u001b[0m \u001b[0mk\u001b[0m\u001b[0;34m,\u001b[0m \u001b[0marg\u001b[0m \u001b[0;32min\u001b[0m \u001b[0mzip\u001b[0m\u001b[0;34m(\u001b[0m\u001b[0msig\u001b[0m\u001b[0;34m.\u001b[0m\u001b[0mparameters\u001b[0m\u001b[0;34m,\u001b[0m \u001b[0margs\u001b[0m\u001b[0;34m)\u001b[0m\u001b[0;34m:\u001b[0m\u001b[0;34m\u001b[0m\u001b[0;34m\u001b[0m\u001b[0m\n\u001b[1;32m    728\u001b[0m                 \u001b[0mkwargs\u001b[0m\u001b[0;34m[\u001b[0m\u001b[0mk\u001b[0m\u001b[0;34m]\u001b[0m \u001b[0;34m=\u001b[0m \u001b[0marg\u001b[0m\u001b[0;34m\u001b[0m\u001b[0;34m\u001b[0m\u001b[0m\n\u001b[0;32m--> 729\u001b[0;31m             \u001b[0;32mreturn\u001b[0m \u001b[0mfunc\u001b[0m\u001b[0;34m(\u001b[0m\u001b[0;34m**\u001b[0m\u001b[0mkwargs\u001b[0m\u001b[0;34m)\u001b[0m\u001b[0;34m\u001b[0m\u001b[0;34m\u001b[0m\u001b[0m\n\u001b[0m\u001b[1;32m    730\u001b[0m \u001b[0;34m\u001b[0m\u001b[0m\n\u001b[1;32m    731\u001b[0m         \u001b[0;32mreturn\u001b[0m \u001b[0minner_f\u001b[0m\u001b[0;34m\u001b[0m\u001b[0;34m\u001b[0m\u001b[0m\n",
      "\u001b[0;32m/Library/Frameworks/Python.framework/Versions/3.9/lib/python3.9/site-packages/xgboost/training.py\u001b[0m in \u001b[0;36mtrain\u001b[0;34m(params, dtrain, num_boost_round, evals, obj, feval, maximize, early_stopping_rounds, evals_result, verbose_eval, xgb_model, callbacks, custom_metric)\u001b[0m\n\u001b[1;32m    179\u001b[0m         \u001b[0;32mif\u001b[0m \u001b[0mcb_container\u001b[0m\u001b[0;34m.\u001b[0m\u001b[0mbefore_iteration\u001b[0m\u001b[0;34m(\u001b[0m\u001b[0mbst\u001b[0m\u001b[0;34m,\u001b[0m \u001b[0mi\u001b[0m\u001b[0;34m,\u001b[0m \u001b[0mdtrain\u001b[0m\u001b[0;34m,\u001b[0m \u001b[0mevals\u001b[0m\u001b[0;34m)\u001b[0m\u001b[0;34m:\u001b[0m\u001b[0;34m\u001b[0m\u001b[0;34m\u001b[0m\u001b[0m\n\u001b[1;32m    180\u001b[0m             \u001b[0;32mbreak\u001b[0m\u001b[0;34m\u001b[0m\u001b[0;34m\u001b[0m\u001b[0m\n\u001b[0;32m--> 181\u001b[0;31m         \u001b[0mbst\u001b[0m\u001b[0;34m.\u001b[0m\u001b[0mupdate\u001b[0m\u001b[0;34m(\u001b[0m\u001b[0mdtrain\u001b[0m\u001b[0;34m,\u001b[0m \u001b[0mi\u001b[0m\u001b[0;34m,\u001b[0m \u001b[0mobj\u001b[0m\u001b[0;34m)\u001b[0m\u001b[0;34m\u001b[0m\u001b[0;34m\u001b[0m\u001b[0m\n\u001b[0m\u001b[1;32m    182\u001b[0m         \u001b[0;32mif\u001b[0m \u001b[0mcb_container\u001b[0m\u001b[0;34m.\u001b[0m\u001b[0mafter_iteration\u001b[0m\u001b[0;34m(\u001b[0m\u001b[0mbst\u001b[0m\u001b[0;34m,\u001b[0m \u001b[0mi\u001b[0m\u001b[0;34m,\u001b[0m \u001b[0mdtrain\u001b[0m\u001b[0;34m,\u001b[0m \u001b[0mevals\u001b[0m\u001b[0;34m)\u001b[0m\u001b[0;34m:\u001b[0m\u001b[0;34m\u001b[0m\u001b[0;34m\u001b[0m\u001b[0m\n\u001b[1;32m    183\u001b[0m             \u001b[0;32mbreak\u001b[0m\u001b[0;34m\u001b[0m\u001b[0;34m\u001b[0m\u001b[0m\n",
      "\u001b[0;32m/Library/Frameworks/Python.framework/Versions/3.9/lib/python3.9/site-packages/xgboost/core.py\u001b[0m in \u001b[0;36mupdate\u001b[0;34m(self, dtrain, iteration, fobj)\u001b[0m\n\u001b[1;32m   2048\u001b[0m         \u001b[0;32mif\u001b[0m \u001b[0mfobj\u001b[0m \u001b[0;32mis\u001b[0m \u001b[0;32mNone\u001b[0m\u001b[0;34m:\u001b[0m\u001b[0;34m\u001b[0m\u001b[0;34m\u001b[0m\u001b[0m\n\u001b[1;32m   2049\u001b[0m             _check_call(\n\u001b[0;32m-> 2050\u001b[0;31m                 _LIB.XGBoosterUpdateOneIter(\n\u001b[0m\u001b[1;32m   2051\u001b[0m                     \u001b[0mself\u001b[0m\u001b[0;34m.\u001b[0m\u001b[0mhandle\u001b[0m\u001b[0;34m,\u001b[0m \u001b[0mctypes\u001b[0m\u001b[0;34m.\u001b[0m\u001b[0mc_int\u001b[0m\u001b[0;34m(\u001b[0m\u001b[0miteration\u001b[0m\u001b[0;34m)\u001b[0m\u001b[0;34m,\u001b[0m \u001b[0mdtrain\u001b[0m\u001b[0;34m.\u001b[0m\u001b[0mhandle\u001b[0m\u001b[0;34m\u001b[0m\u001b[0;34m\u001b[0m\u001b[0m\n\u001b[1;32m   2052\u001b[0m                 )\n",
      "\u001b[0;31mKeyboardInterrupt\u001b[0m: "
     ]
    }
   ],
   "source": [
    "\n",
    "# Split the data into training and validation sets\n",
    "\n",
    "x_train_a, x_val_a, y_train_a, y_val_a = train_test_split(X_frames_train[0], Y_frames_train[0], test_size=0.17, random_state=42)\n",
    "x_train_b, x_val_b, y_train_b, y_val_b = train_test_split(X_frames_train[1], Y_frames_train[1], test_size=0.17, random_state=42)\n",
    "x_train_c, x_val_c, y_train_c, y_val_c = train_test_split(X_frames_train[2], Y_frames_train[2], test_size=0.17, random_state=42)\n",
    "\n",
    "# Use params from hyperparameter tuning using optuna\n",
    "params_a = {'random_state': 42, 'n_estimators': 980, 'max_depth': 9, 'learning_rate': 0.029035565559484028, 'subsample': 0.8393121619033767, 'colsample_bytree': 0.7589542758688459}\n",
    "params_b = {'random_state': 42, 'n_estimators': 955, 'max_depth': 9, 'learning_rate': 0.02949625834198986, 'subsample': 0.8030196155828968, 'colsample_bytree': 0.72518389089994}\n",
    "params_c = {'random_state': 42, 'n_estimators': 727, 'max_depth': 8, 'learning_rate': 0.08609213174337473, 'subsample': 0.8107057409889747, 'colsample_bytree': 0.8763563332327975}\n",
    "model_a = xgb.XGBRegressor(**params_a)\n",
    "model_b = xgb.XGBRegressor(**params_b)\n",
    "model_c = xgb.XGBRegressor(**params_c)\n",
    "\n",
    "\n",
    "model_a.fit(x_train_a, y_train_a)\n",
    "model_b.fit(x_train_b, y_train_b)\n",
    "model_c.fit(x_train_c, y_train_c)\n",
    "\n"
   ]
  },
  {
   "cell_type": "markdown",
   "metadata": {},
   "source": [
    "# Evaluate prediction"
   ]
  },
  {
   "cell_type": "code",
   "execution_count": 13,
   "metadata": {},
   "outputs": [
    {
     "name": "stdout",
     "output_type": "stream",
     "text": [
      "MSE for A:  133959.32363219874\n",
      "MSE for B:  2779.2846869856926\n",
      "MSE for C:  2210.4212518471645\n",
      "Mean MSE:  46316.34319034387\n",
      "Score A:  0.9024897947526774\n",
      "Score B:  0.927851576108816\n",
      "Score C:  0.9259316416127992\n",
      "\n",
      "Model A\n",
      "                           Feature  Importance\n",
      "10                    direct_rad:W    0.289398\n",
      "11                 direct_rad_1h:J    0.152477\n",
      "4                  clear_sky_rad:W    0.045962\n",
      "8                    diffuse_rad:W    0.045547\n",
      "49                            year    0.030321\n",
      "50                           month    0.028672\n",
      "36                 sun_elevation:d    0.025525\n",
      "23            precip_type_5min:idx    0.025136\n",
      "48                    cosinus_year    0.023600\n",
      "52                           hours    0.021994\n",
      "30               snow_density:kgm3    0.018984\n",
      "45                       sinus_day    0.018785\n",
      "22                  precip_5min:mm    0.018053\n",
      "35                   sun_azimuth:d    0.015931\n",
      "20                is_in_shadow:idx    0.013566\n",
      "16               fresh_snow_24h:cm    0.011419\n",
      "12         effective_cloud_cover:p    0.011131\n",
      "46                     cosinus_day    0.010051\n",
      "7                   dew_point_2m:K    0.008861\n",
      "47                      sinus_year    0.008635\n",
      "31                   snow_depth:cm    0.008594\n",
      "38                     t_1000hPa:K    0.007895\n",
      "6                  dew_or_rime:idx    0.007809\n",
      "40                    visibility:m    0.007716\n",
      "29                sfc_pressure:hPa    0.007672\n",
      "39             total_cloud_cover:p    0.007522\n",
      "51                             day    0.007510\n",
      "42             wind_speed_u_10m:ms    0.007406\n",
      "9                 diffuse_rad_1h:J    0.007119\n",
      "37  super_cooled_liquid_water:kgm2    0.007067\n",
      "34                 snow_water:kgm2    0.007020\n",
      "41               wind_speed_10m:ms    0.006471\n",
      "19                      is_day:idx    0.006445\n",
      "24               pressure_100m:hPa    0.006348\n",
      "18                fresh_snow_6h:cm    0.006328\n",
      "25                pressure_50m:hPa    0.006261\n",
      "17                fresh_snow_3h:cm    0.005992\n",
      "43             wind_speed_v_10m:ms    0.005626\n",
      "27                 rain_water:kgm2    0.005534\n",
      "21                msl_pressure:hPa    0.005371\n",
      "14               fresh_snow_12h:cm    0.005188\n",
      "28     relative_humidity_1000hPa:p    0.004870\n",
      "15                fresh_snow_1h:cm    0.004252\n",
      "33              snow_melt_10min:mm    0.004249\n",
      "5                 cloud_base_agl:m    0.004185\n",
      "2             ceiling_height_agl:m    0.003925\n",
      "26                     prob_rime:p    0.003490\n",
      "3            clear_sky_energy_1h:J    0.003254\n",
      "1              air_density_2m:kgm3    0.002753\n",
      "0         absolute_humidity_2m:gm3    0.001812\n",
      "44         wind_speed_w_1000hPa:ms    0.000273\n",
      "13                     elevation:m    0.000000\n",
      "32                  snow_drift:idx    0.000000\n",
      "Model B\n",
      "                           Feature  Importance\n",
      "10                    direct_rad:W    0.201646\n",
      "36                 sun_elevation:d    0.170651\n",
      "4                  clear_sky_rad:W    0.101171\n",
      "49                            year    0.058184\n",
      "19                      is_day:idx    0.053552\n",
      "20                is_in_shadow:idx    0.043823\n",
      "50                           month    0.034627\n",
      "11                 direct_rad_1h:J    0.032874\n",
      "27                 rain_water:kgm2    0.024451\n",
      "48                    cosinus_year    0.022798\n",
      "47                      sinus_year    0.022495\n",
      "8                    diffuse_rad:W    0.018136\n",
      "18                fresh_snow_6h:cm    0.012890\n",
      "16               fresh_snow_24h:cm    0.012382\n",
      "22                  precip_5min:mm    0.011333\n",
      "45                       sinus_day    0.010482\n",
      "29                sfc_pressure:hPa    0.009618\n",
      "35                   sun_azimuth:d    0.009507\n",
      "23            precip_type_5min:idx    0.009439\n",
      "14               fresh_snow_12h:cm    0.007924\n",
      "51                             day    0.007780\n",
      "7                   dew_point_2m:K    0.007239\n",
      "38                     t_1000hPa:K    0.006916\n",
      "40                    visibility:m    0.006584\n",
      "34                 snow_water:kgm2    0.006565\n",
      "24               pressure_100m:hPa    0.006414\n",
      "5                 cloud_base_agl:m    0.006215\n",
      "25                pressure_50m:hPa    0.006162\n",
      "12         effective_cloud_cover:p    0.006139\n",
      "52                           hours    0.005740\n",
      "37  super_cooled_liquid_water:kgm2    0.005649\n",
      "21                msl_pressure:hPa    0.005545\n",
      "42             wind_speed_u_10m:ms    0.005361\n",
      "39             total_cloud_cover:p    0.005012\n",
      "15                fresh_snow_1h:cm    0.004861\n",
      "43             wind_speed_v_10m:ms    0.003985\n",
      "28     relative_humidity_1000hPa:p    0.003873\n",
      "9                 diffuse_rad_1h:J    0.003683\n",
      "41               wind_speed_10m:ms    0.003379\n",
      "3            clear_sky_energy_1h:J    0.003364\n",
      "46                     cosinus_day    0.003325\n",
      "17                fresh_snow_3h:cm    0.003250\n",
      "2             ceiling_height_agl:m    0.003198\n",
      "1              air_density_2m:kgm3    0.002779\n",
      "0         absolute_humidity_2m:gm3    0.002138\n",
      "30               snow_density:kgm3    0.002114\n",
      "31                   snow_depth:cm    0.001844\n",
      "26                     prob_rime:p    0.001062\n",
      "44         wind_speed_w_1000hPa:ms    0.000846\n",
      "33              snow_melt_10min:mm    0.000608\n",
      "6                  dew_or_rime:idx    0.000384\n",
      "13                     elevation:m    0.000000\n",
      "32                  snow_drift:idx    0.000000\n",
      "Model C\n",
      "                           Feature  Importance\n",
      "36                 sun_elevation:d    0.603350\n",
      "4                  clear_sky_rad:W    0.113495\n",
      "10                    direct_rad:W    0.050417\n",
      "11                 direct_rad_1h:J    0.030899\n",
      "23            precip_type_5min:idx    0.020218\n",
      "30               snow_density:kgm3    0.017770\n",
      "3            clear_sky_energy_1h:J    0.015290\n",
      "16               fresh_snow_24h:cm    0.012099\n",
      "22                  precip_5min:mm    0.010864\n",
      "38                     t_1000hPa:K    0.010207\n",
      "31                   snow_depth:cm    0.007520\n",
      "49                            year    0.006823\n",
      "34                 snow_water:kgm2    0.006055\n",
      "48                    cosinus_year    0.006023\n",
      "24               pressure_100m:hPa    0.005964\n",
      "25                pressure_50m:hPa    0.005756\n",
      "21                msl_pressure:hPa    0.004943\n",
      "27                 rain_water:kgm2    0.004695\n",
      "51                             day    0.004460\n",
      "12         effective_cloud_cover:p    0.004165\n",
      "14               fresh_snow_12h:cm    0.004145\n",
      "42             wind_speed_u_10m:ms    0.004015\n",
      "47                      sinus_year    0.003942\n",
      "39             total_cloud_cover:p    0.003882\n",
      "28     relative_humidity_1000hPa:p    0.003791\n",
      "40                    visibility:m    0.003704\n",
      "7                   dew_point_2m:K    0.003135\n",
      "50                           month    0.002902\n",
      "8                    diffuse_rad:W    0.002699\n",
      "41               wind_speed_10m:ms    0.002665\n",
      "35                   sun_azimuth:d    0.002620\n",
      "5                 cloud_base_agl:m    0.002596\n",
      "43             wind_speed_v_10m:ms    0.002281\n",
      "37  super_cooled_liquid_water:kgm2    0.002276\n",
      "29                sfc_pressure:hPa    0.002255\n",
      "9                 diffuse_rad_1h:J    0.002241\n",
      "44         wind_speed_w_1000hPa:ms    0.001840\n",
      "2             ceiling_height_agl:m    0.001752\n",
      "45                       sinus_day    0.001255\n",
      "46                     cosinus_day    0.001232\n",
      "1              air_density_2m:kgm3    0.001192\n",
      "0         absolute_humidity_2m:gm3    0.001125\n",
      "33              snow_melt_10min:mm    0.000540\n",
      "52                           hours    0.000393\n",
      "20                is_in_shadow:idx    0.000127\n",
      "18                fresh_snow_6h:cm    0.000102\n",
      "6                  dew_or_rime:idx    0.000091\n",
      "26                     prob_rime:p    0.000079\n",
      "17                fresh_snow_3h:cm    0.000065\n",
      "19                      is_day:idx    0.000041\n",
      "15                fresh_snow_1h:cm    0.000005\n",
      "13                     elevation:m    0.000000\n",
      "32                  snow_drift:idx    0.000000\n"
     ]
    }
   ],
   "source": [
    "# Evaluate the model based on the validation data\n",
    "\n",
    "mse_a = mean_squared_error(y_val_a, model_a.predict(x_val_a))\n",
    "print(\"MSE for A: \", mse_a)\n",
    "mse_b = mean_squared_error(y_val_b, model_b.predict(x_val_b))\n",
    "print(\"MSE for B: \", mse_b)\n",
    "mse_c = mean_squared_error(y_val_c, model_c.predict(x_val_c))\n",
    "print(\"MSE for C: \", mse_c)\n",
    "print(\"Mean MSE: \", (mse_a + mse_b + mse_c) / 3)\n",
    "\n",
    "# Evaluate the predictions\n",
    "\n",
    "score_a = model_a.score(x_val_a, y_val_a)\n",
    "score_b = model_b.score(x_val_b, y_val_b)\n",
    "score_c = model_c.score(x_val_c, y_val_c)\n",
    "\n",
    "print(\"Score A: \", score_a)\n",
    "print(\"Score B: \", score_b)\n",
    "print(\"Score C: \", score_c)\n",
    "print('')\n",
    "\n",
    "# Get feature importance scores\n",
    "models = [(model_a, 'A'), (model_b, 'B'), (model_c, 'C')]\n",
    "for model in models:\n",
    "\n",
    "    feature_importance_scores = model[0].feature_importances_\n",
    "\n",
    "# Create a DataFrame to associate features with their importance scores\n",
    "    feature_importance_df1 = pd.DataFrame({'Feature': x_train_a.columns, 'Importance': feature_importance_scores})\n",
    "\n",
    "# Sort features by importance in descending order\n",
    "    feature_importance_df1 = feature_importance_df1.sort_values(by='Importance', ascending=False)\n",
    "\n",
    "# Print or visualize the feature importance scores\n",
    "    pd.set_option('display.max_rows', 500)\n",
    "    feature_importance_df1.head(500)\n",
    "    print(f'Model {model[1]}')\n",
    "    print(feature_importance_df1)\n",
    "    pd.reset_option('display.max_rows')\n"
   ]
  },
  {
   "cell_type": "markdown",
   "metadata": {},
   "source": [
    "```\n",
    "Most_common = ['direct_rad:W', 'clear_sky_rad:W']\n",
    "\n",
    "MSE for A:  155326.11984010294\n",
    "MSE for B:  4311.822664627681\n",
    "MSE for C:  2484.332046556924\n",
    "Mean MSE:  54040.75818376252\n",
    "Score A:  0.8869367102250868\n",
    "Score B:  0.8880678863853381\n",
    "Score C:  0.9167532450100108\n",
    "\n",
    "Model A\n",
    "                 Feature  Importance\n",
    "9           direct_rad:W    0.558548 <-------- 3\n",
    "7          diffuse_rad:W    0.077622 <-------- 2\n",
    "18      is_in_shadow:idx    0.028293 <--------2\n",
    "3        clear_sky_rad:W    0.026308 <-------- 3\n",
    "40          cosinus_year    0.024731\n",
    "24     snow_density:kgm3    0.022149 <-------- 2\n",
    "29         sun_azimuth:d    0.021677\n",
    "20  precip_type_5min:idx    0.016280\n",
    "6         dew_point_2m:K    0.015750\n",
    "19        precip_5min:mm    0.014176 <-------- 2\n",
    "\n",
    "Model B\n",
    "             Feature  Importance\n",
    "9       direct_rad:W    0.369634     <--------- 3\n",
    "30   sun_elevation:d    0.165624     <-------- 2\n",
    "3    clear_sky_rad:W    0.084479     <--------- 3\n",
    "18  is_in_shadow:idx    0.074470     <---------\n",
    "17        is_day:idx    0.037519\n",
    "22   rain_water:kgm2    0.028054\n",
    "40      cosinus_year    0.024928\n",
    "7      diffuse_rad:W    0.019828     <--------- 2\n",
    "39        sinus_year    0.016917\n",
    "16  fresh_snow_6h:cm    0.015372     <-------- 1/2\n",
    "\n",
    "Model C\n",
    "                 Feature  Importance\n",
    "30       sun_elevation:d    0.737467 <--------- 2\n",
    "3        clear_sky_rad:W    0.110762 <--------- 3\n",
    "9           direct_rad:W    0.029844 <--------- 3\n",
    "10       direct_rad_1h:J    0.023283\n",
    "20  precip_type_5min:idx    0.010948\n",
    "12     fresh_snow_12h:cm    0.010607\n",
    "24     snow_density:kgm3    0.009615 <-------- 2\n",
    "14     fresh_snow_24h:cm    0.007877 <-------- 1/2\n",
    "6         dew_point_2m:K    0.005590\n",
    "19        precip_5min:mm    0.005087 <-------- 2\n",
    "```"
   ]
  },
  {
   "cell_type": "markdown",
   "metadata": {},
   "source": [
    "# Make predictions"
   ]
  },
  {
   "cell_type": "code",
   "execution_count": 14,
   "metadata": {},
   "outputs": [
    {
     "name": "stdout",
     "output_type": "stream",
     "text": [
      "720\n"
     ]
    }
   ],
   "source": [
    "# Train the model on the entire training data\n",
    "model_a.fit(X_frames_train[0], Y_frames_train[0])\n",
    "model_b.fit(X_frames_train[1], Y_frames_train[1])\n",
    "model_c.fit(X_frames_train[2], Y_frames_train[2])\n",
    "\n",
    "y_pred_a = model_a.predict(X_frames_test[0])\n",
    "y_pred_b = model_b.predict(X_frames_test[1])\n",
    "y_pred_c = model_c.predict(X_frames_test[2])\n",
    "print(len(y_pred_a))\n",
    "\n",
    "y_pred = np.concatenate((y_pred_a, y_pred_b, y_pred_c), axis=0)\n",
    "\n"
   ]
  },
  {
   "cell_type": "code",
   "execution_count": 15,
   "metadata": {},
   "outputs": [
    {
     "name": "stdout",
     "output_type": "stream",
     "text": [
      "720 720\n",
      "720 720\n",
      "720 720\n"
     ]
    }
   ],
   "source": [
    "print(len(y_pred_a), len(X_frames_test[0]))\n",
    "print(len(y_pred_b), len(X_frames_test[1]))\n",
    "print(len(y_pred_c), len(X_frames_test[2]))"
   ]
  },
  {
   "cell_type": "code",
   "execution_count": 16,
   "metadata": {},
   "outputs": [],
   "source": [
    "for i in range(len(y_pred)):\n",
    "    if y_pred[i] < 0: \n",
    "        y_pred[i] = 0\n",
    "\n"
   ]
  },
  {
   "cell_type": "markdown",
   "metadata": {},
   "source": []
  },
  {
   "cell_type": "markdown",
   "metadata": {},
   "source": [
    "# Create submission"
   ]
  },
  {
   "cell_type": "code",
   "execution_count": 17,
   "metadata": {},
   "outputs": [
    {
     "name": "stdout",
     "output_type": "stream",
     "text": [
      "2160\n"
     ]
    }
   ],
   "source": [
    "y_test_pred = y_pred\n",
    "print(len(y_test_pred))\n",
    "\n",
    "test = pd.read_csv('../data/test.csv')\n",
    "test['prediction'] = y_test_pred\n",
    "sample_submission = pd.read_csv('../data/sample_submission.csv')\n",
    "submission = sample_submission[['id']].merge(test[['id', 'prediction']], on='id', how='left')\n",
    "submission.to_csv('submission.csv', index=False)"
   ]
  }
 ],
 "metadata": {
  "kernelspec": {
   "display_name": "Python 3",
   "language": "python",
   "name": "python3"
  },
  "language_info": {
   "codemirror_mode": {
    "name": "ipython",
    "version": 3
   },
   "file_extension": ".py",
   "mimetype": "text/x-python",
   "name": "python",
   "nbconvert_exporter": "python",
   "pygments_lexer": "ipython3",
   "version": "3.9.6"
  },
  "orig_nbformat": 4
 },
 "nbformat": 4,
 "nbformat_minor": 2
}
