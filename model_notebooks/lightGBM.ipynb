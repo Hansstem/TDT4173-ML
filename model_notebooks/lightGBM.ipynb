{
 "cells": [
  {
   "cell_type": "markdown",
   "metadata": {},
   "source": [
    "# Imports"
   ]
  },
  {
   "cell_type": "code",
   "execution_count": 58,
   "metadata": {},
   "outputs": [],
   "source": [
    "\n",
    "import pandas as pd\n",
    "import numpy as np\n",
    "import lightgbm as lgb\n",
    "from sklearn.metrics import mean_squared_error\n",
    "from sklearn.model_selection import train_test_split\n",
    "\n",
    "import matplotlib.pyplot as plt\n"
   ]
  },
  {
   "cell_type": "markdown",
   "metadata": {},
   "source": [
    "# Load datasets"
   ]
  },
  {
   "cell_type": "code",
   "execution_count": 59,
   "metadata": {},
   "outputs": [],
   "source": [
    "X_train_estimated_a = pd.read_parquet('../data/A/X_train_estimated.parquet')\n",
    "X_train_estimated_b = pd.read_parquet('../data/B/X_train_estimated.parquet')\n",
    "X_train_estimated_c = pd.read_parquet('../data/C/X_train_estimated.parquet')\n",
    "\n",
    "X_train_observed_a = pd.read_parquet('../data/A/X_train_observed.parquet')\n",
    "X_train_observed_b = pd.read_parquet('../data/B/X_train_observed.parquet')\n",
    "X_train_observed_c = pd.read_parquet('../data/C/X_train_observed.parquet')\n",
    "\n",
    "X_test_estimated_a = pd.read_parquet('../data/A/X_test_estimated.parquet')\n",
    "X_test_estimated_b = pd.read_parquet('../data/B/X_test_estimated.parquet')\n",
    "X_test_estimated_c = pd.read_parquet('../data/C/X_test_estimated.parquet')\n",
    "\n",
    "train_targets_a = pd.read_parquet('../data/A/train_targets.parquet')\n",
    "train_targets_b = pd.read_parquet('../data/B/train_targets.parquet')\n",
    "train_targets_c = pd.read_parquet('../data/C/train_targets.parquet')"
   ]
  },
  {
   "cell_type": "markdown",
   "metadata": {},
   "source": [
    "# Data clean up"
   ]
  },
  {
   "cell_type": "code",
   "execution_count": 60,
   "metadata": {},
   "outputs": [],
   "source": [
    "\n",
    "# Data set A, B and C clean up\n",
    "\n",
    "def data_clean_up(x_train_est, x_train_observe, y_train):\n",
    "\n",
    "  if 'date_calc' in x_train_est.columns:\n",
    "    x_train_est.drop(columns=\"date_calc\", inplace=True)\n",
    "\n",
    "  x_train = pd.concat([x_train_observe, x_train_est])\n",
    "\n",
    "  # Group the rows into blocks of 4 and apply the aggregation function\n",
    "  agg_func = {col: 'mean' for col in x_train.columns[1:]}\n",
    "  X_train_downscaled = x_train.groupby(x_train.index // 4).agg({**{'date_forecast': 'first'}, **agg_func})\n",
    "\n",
    "  y_train.dropna(inplace=True)\n",
    "  combined_data = pd.merge(X_train_downscaled, y_train, left_on='date_forecast', right_on='time')\n",
    "  y_train = combined_data['pv_measurement']\n",
    "\n",
    "  if 'date_forecast' and 'time' and 'pv_measurement' in combined_data.columns:\n",
    "    combined_data.drop(columns=\"date_forecast\", inplace=True)\n",
    "    combined_data.drop(columns=\"time\", inplace=True)\n",
    "    combined_data.drop(columns=\"pv_measurement\", inplace=True)\n",
    "\n",
    "  return combined_data, y_train\n",
    "\n",
    "x_train_a, y_train_a = data_clean_up(X_train_estimated_a, X_train_observed_a, train_targets_a)\n",
    "x_train_b, y_train_b = data_clean_up(X_train_estimated_b, X_train_observed_b, train_targets_b)\n",
    "x_train_c, y_train_c = data_clean_up(X_train_estimated_c, X_train_observed_c, train_targets_c)"
   ]
  },
  {
   "cell_type": "code",
   "execution_count": 61,
   "metadata": {},
   "outputs": [],
   "source": [
    "\n",
    "def data_clean_up_test(x_test_est):\n",
    "\n",
    "  # Group the rows into blocks of 4 and apply the aggregation function\n",
    "  agg_func = {col: 'mean' for col in x_test_est.columns[1:]}\n",
    "  X_test_downscaled = x_test_est.groupby(x_test_est.index // 4).agg({**{'date_forecast': 'first'}, **agg_func})\n",
    "\n",
    "  if 'date_forecast' in X_test_downscaled.columns:\n",
    "    X_test_downscaled.drop(columns=\"date_forecast\", inplace=True)\n",
    "\n",
    "  return X_test_downscaled"
   ]
  },
  {
   "cell_type": "markdown",
   "metadata": {},
   "source": [
    "# Feature engineering"
   ]
  },
  {
   "cell_type": "code",
   "execution_count": 62,
   "metadata": {},
   "outputs": [],
   "source": [
    "# Do something"
   ]
  },
  {
   "cell_type": "markdown",
   "metadata": {},
   "source": [
    "# Training the model"
   ]
  },
  {
   "cell_type": "code",
   "execution_count": 69,
   "metadata": {},
   "outputs": [
    {
     "name": "stdout",
     "output_type": "stream",
     "text": [
      "(29667, 45)\n"
     ]
    }
   ],
   "source": [
    "# Convert the data to NumPy arrays or Pandas DataFrames\n",
    "x_train_np_a = x_train_a.to_numpy()\n",
    "y_train_np_a = y_train_a.to_numpy()\n",
    "\n",
    "x_train_np_b = x_train_b.to_numpy()\n",
    "y_train_np_b = y_train_b.to_numpy()\n",
    "\n",
    "x_train_np_c = x_train_c.to_numpy()\n",
    "y_train_np_c = y_train_c.to_numpy()\n",
    "\n",
    "\n",
    "# Split data into training and validation sets\n",
    "train_size = 0.8\n",
    "\n",
    "print(x_train_np_a.shape)\n",
    "\n",
    "x_train_split_a, x_valid_split_a, y_train_split_a, y_valid_split_a = train_test_split(\n",
    "    x_train_np_a, y_train_np_a, train_size=train_size, random_state=42\n",
    ")\n",
    "\n",
    "x_train_split_b, x_valid_split_b, y_train_split_b, y_valid_split_b = train_test_split(\n",
    "    x_train_np_b, y_train_np_b, train_size=train_size, random_state=42\n",
    ")\n",
    "\n",
    "x_train_split_c, x_valid_split_c, y_train_split_c, y_valid_split_c = train_test_split(\n",
    "    x_train_np_c, y_train_np_c, train_size=train_size, random_state=42\n",
    ")\n",
    "\n",
    "\n",
    "# Create LightGBM datasets\n",
    "train_data_a = lgb.Dataset(x_train_split_a, label=y_train_split_a)\n",
    "valid_data_a = lgb.Dataset(x_valid_split_a, label=y_valid_split_a, reference=train_data_a)\n",
    "\n",
    "\n",
    "train_data_b = lgb.Dataset(x_train_split_b, label=y_train_split_b)\n",
    "valid_data_b = lgb.Dataset(x_valid_split_b, label=y_valid_split_b, reference=train_data_b)\n",
    "\n",
    "train_data_c = lgb.Dataset(x_train_split_c, label=y_train_split_c)\n",
    "valid_data_c = lgb.Dataset(x_valid_split_c, label=y_valid_split_c, reference=train_data_b)\n",
    "\n",
    "\n"
   ]
  },
  {
   "cell_type": "code",
   "execution_count": 64,
   "metadata": {},
   "outputs": [
    {
     "name": "stdout",
     "output_type": "stream",
     "text": [
      "[LightGBM] [Info] Auto-choosing row-wise multi-threading, the overhead of testing was 0.002095 seconds.\n",
      "You can set `force_row_wise=true` to remove the overhead.\n",
      "And if memory is not enough, you can set `force_col_wise=true`.\n",
      "[LightGBM] [Info] Total Bins 7913\n",
      "[LightGBM] [Info] Number of data points in the train set: 23733, number of used features: 42\n",
      "[LightGBM] [Info] Start training from score 680.011495\n",
      "[LightGBM] [Info] Auto-choosing row-wise multi-threading, the overhead of testing was 0.001644 seconds.\n",
      "You can set `force_row_wise=true` to remove the overhead.\n",
      "And if memory is not enough, you can set `force_col_wise=true`.\n",
      "[LightGBM] [Info] Total Bins 7942\n",
      "[LightGBM] [Info] Number of data points in the train set: 23374, number of used features: 42\n",
      "[LightGBM] [Info] Start training from score 102.697315\n",
      "[LightGBM] [Info] Auto-choosing row-wise multi-threading, the overhead of testing was 0.001545 seconds.\n",
      "You can set `force_row_wise=true` to remove the overhead.\n",
      "And if memory is not enough, you can set `force_col_wise=true`.\n",
      "[LightGBM] [Info] Total Bins 8029\n",
      "[LightGBM] [Info] Number of data points in the train set: 18512, number of used features: 43\n",
      "[LightGBM] [Info] Start training from score 81.854246\n"
     ]
    }
   ],
   "source": [
    "\n",
    "# Define hyperparameters\n",
    "params = {\n",
    "    'objective': 'regression',\n",
    "    'metric': 'rmse',  # Use an appropriate metric for your problem\n",
    "    # Add other hyperparameters here\n",
    "}\n",
    "\n",
    "\n",
    "# Train the model\n",
    "num_round = 10000  # You can adjust the number of boosting rounds\n",
    "model_a = lgb.train(\n",
    "    params,\n",
    "    train_data_a,\n",
    "    num_round,\n",
    "    valid_sets=[valid_data_a]\n",
    ")\n",
    "\n",
    "model_b = lgb.train(\n",
    "    params,\n",
    "    train_data_b,\n",
    "    num_round,\n",
    "    valid_sets=[valid_data_b]\n",
    ")\n",
    "\n",
    "model_c = lgb.train(\n",
    "    params,\n",
    "    train_data_c,\n",
    "    num_round,\n",
    "    valid_sets=[valid_data_c]\n",
    ")\n",
    "\n",
    "\n",
    "# Make predictions\n",
    "# Do some more stuff\n"
   ]
  },
  {
   "cell_type": "markdown",
   "metadata": {},
   "source": [
    "# Make predictions"
   ]
  },
  {
   "cell_type": "code",
   "execution_count": 65,
   "metadata": {},
   "outputs": [
    {
     "name": "stdout",
     "output_type": "stream",
     "text": [
      "[-7.54435202e+00 -2.79928625e+00  2.85665646e+00  4.27446672e+01\n",
      "  2.98222313e+02  8.53209990e+02  1.83247030e+03  2.80373116e+03\n",
      "  2.41159455e+03  1.96950261e+03  2.39948656e+03  2.28271063e+03\n",
      "  2.14743238e+03  1.89343647e+03  2.29033664e+03  1.74304022e+03\n",
      "  1.17154120e+03  4.54966103e+02  2.15838043e+02  2.19388060e+01\n",
      "  5.15723851e+00  2.26743587e+00 -3.23433364e+00  1.51961160e+01\n",
      " -4.78261002e+00 -1.97717918e+01  1.18159566e+01  2.14083162e+02\n",
      "  8.23216020e+02  1.34185658e+03  2.06150644e+03  3.19738438e+03\n",
      "  3.76241388e+03  3.95506703e+03  3.79392230e+03  3.34603434e+03\n",
      "  3.29928783e+03  3.97730328e+03  3.45452983e+03  2.69829463e+03\n",
      "  1.51082324e+03  7.28905707e+02  2.91282718e+02  1.36894977e+02\n",
      "  7.28702450e+01  3.33193047e+01 -1.73095407e+01  2.74993054e+01\n",
      "  3.88108354e+01  2.59793658e+01  5.84406658e+01  2.76518116e+02\n",
      "  7.14122774e+02  1.23666448e+03  2.94483827e+03  3.57404013e+03\n",
      "  4.24460431e+03  4.85820075e+03  4.80138039e+03  4.20597630e+03\n",
      "  4.60826476e+03  4.23568564e+03  3.38788252e+03  2.50261353e+03\n",
      "  1.30063286e+03  7.02874068e+02  4.37873447e+02  1.04984134e+02\n",
      " -5.13942189e+00  8.69095364e+00  1.44412688e+00  6.67427012e+00\n",
      " -3.71572953e+00  1.80056768e+00  1.56175396e+01  1.68932328e+02\n",
      "  5.17624938e+02  1.48533111e+03  2.50713774e+03  3.76039467e+03\n",
      "  2.89405705e+03  2.81836079e+03  2.92583310e+03  2.88739148e+03\n",
      "  3.05501359e+03  2.60215765e+03  3.22112815e+03  2.45637796e+03\n",
      "  2.06970585e+03  4.18524288e+02  3.57205371e+02  2.04837667e+02\n",
      "  3.96715649e+01  7.16043462e+00  5.99496550e+00 -1.15811235e+01\n",
      " -2.47964240e+01 -6.75481608e+00  7.95434095e+01  2.94005170e+02\n",
      "  4.90290141e+02  1.45067939e+03  3.13227577e+03  3.53071765e+03\n",
      "  4.56760732e+03  4.83530587e+03  4.96545261e+03  4.36975824e+03\n",
      "  4.64367174e+03  3.89787179e+03  3.67417444e+03  3.11777108e+03\n",
      "  2.00432811e+03  9.62235317e+02  4.08766852e+02  2.46241001e+02\n",
      "  2.76343261e+01 -4.30627782e+00  2.66608133e+01  1.43102174e+01\n",
      " -1.65616414e+01 -3.58169121e+00  5.84453533e+01  1.97086706e+02\n",
      "  8.00013606e+02  1.69392729e+03  2.67435275e+03  4.01417357e+03\n",
      "  4.33026753e+03  3.68262260e+03  3.92693135e+03  3.59639433e+03\n",
      "  3.50796561e+03  3.66008975e+03  3.14016405e+03  2.24971726e+03\n",
      "  1.69815850e+03  9.66290880e+02  5.53652985e+02  1.95224332e+02\n",
      "  2.43885088e+01  1.67674323e+00 -1.02733726e+01 -2.60338148e+01\n",
      " -1.37119820e+01 -1.09714785e+00  8.61676443e+01  2.38853729e+02\n",
      "  5.62652665e+02  1.75647893e+03  2.95852392e+03  3.84197667e+03\n",
      "  3.92230490e+03  4.63957924e+03  3.72158218e+03  3.75510670e+03\n",
      "  3.94778215e+03  3.19776889e+03  3.23517695e+03  2.16820432e+03\n",
      "  1.71444224e+03  7.17169704e+02  3.46788943e+02  2.11690532e+02\n",
      "  7.79003367e+00  9.95901122e+00  4.41852604e-02 -5.45048706e+00\n",
      " -5.08606158e+00 -9.18560440e+00  2.06315225e+01  6.92000279e+01\n",
      "  1.37904007e+02  1.26698038e+02  1.41019377e+02  3.15843781e+02\n",
      "  5.18220333e+02  4.95766278e+02  6.44627939e+02  1.68774888e+03\n",
      "  2.22666671e+03  2.32672049e+03  2.26228850e+03  1.88135379e+03\n",
      "  1.17157172e+03  5.53579781e+02  3.72726695e+02  1.95051002e+02\n",
      "  3.62769955e+01  8.48096873e+00  7.27430095e+00 -7.20679774e+00\n",
      "  9.86080292e+00 -3.38490825e-01 -2.67215067e+01  1.39233171e+02\n",
      "  4.51409379e+02  1.04380691e+03  1.05431386e+03  2.28515617e+03\n",
      "  1.70248330e+03  2.15887420e+03  2.05506599e+03  2.29589659e+03\n",
      "  2.79425374e+03  2.20436746e+03  2.18885939e+03  2.22897649e+03\n",
      "  1.02879847e+03  1.58651512e+02  1.85813860e+02  9.69055406e+01\n",
      "  6.45677735e+00  6.36483371e+00  1.53594889e+00  1.10629707e+01\n",
      " -1.11608299e+01 -2.96015169e+00  2.08238910e+01  9.04767050e+01\n",
      "  2.76214530e+02  3.20048403e+02  6.37305539e+02  1.56940023e+03\n",
      "  2.50378636e+03  2.09000857e+03  1.47894582e+03  1.78297297e+03\n",
      "  1.10738840e+03  7.63455436e+02  6.59825214e+02  6.06957505e+02\n",
      "  5.82206370e+02  3.56357483e+02  1.67438003e+02  7.83997104e+01\n",
      "  6.60223060e+01 -6.87164315e+00 -1.00299599e+01 -1.06528811e+01\n",
      " -1.20488311e+01 -3.27636969e-01  3.59296841e+01  1.36450841e+02\n",
      "  3.97354473e+02  1.14694130e+03  1.53320902e+03  2.36598933e+03\n",
      "  2.53754967e+03  1.20029264e+03  1.48772469e+03  1.58272242e+03\n",
      "  2.32705636e+03  2.01476026e+03  1.74309241e+03  1.75264061e+03\n",
      "  1.39183914e+03  9.58780433e+02  4.54579966e+02  3.11947056e+02\n",
      "  6.95949374e+01  2.50406997e+01 -4.63039907e+00 -1.47145488e+01\n",
      "  2.93846797e+01  1.40375495e+01  1.47260690e+02  1.58880895e+02\n",
      "  6.62122590e+02  9.70753796e+02  1.50029324e+03  1.59519556e+03\n",
      "  2.06243441e+03  1.86865406e+03  2.69415307e+03  2.32109925e+03\n",
      "  1.90944253e+03  1.21453710e+03  1.35318125e+03  1.08541771e+03\n",
      "  3.04989058e+02  2.64843424e+02  1.25204077e+02  2.16393630e+01\n",
      "  8.40476897e+00  1.53948436e+00 -3.76036115e+00  9.60757344e+00\n",
      " -1.02523476e+01  3.14886386e+01  8.60513130e+01  1.30485662e+02\n",
      "  5.35485116e+02  7.92639059e+02  1.37840599e+03  2.15640302e+03\n",
      "  1.95438111e+03  1.98020206e+03  2.29340252e+03  2.07348099e+03\n",
      "  2.11652489e+03  2.30847486e+03  1.71570418e+03  1.84391242e+03\n",
      "  1.37887135e+03  7.98086615e+02  5.21777449e+02  3.10550111e+02\n",
      "  5.20971274e+01 -9.92328620e+00  1.02870801e+01  1.41403420e+01\n",
      "  5.08257807e+00  9.44718266e+00  6.51905177e+01  1.99404766e+02\n",
      "  3.93052215e+02  5.09136200e+02  1.34386550e+03  1.77623365e+03\n",
      "  2.55652050e+03  3.22688807e+03  3.26114523e+03  2.86517537e+03\n",
      "  2.40859428e+03  2.14195755e+03  1.00015706e+03  7.10039520e+02\n",
      "  8.10309276e+02  4.83451921e+02  2.15044400e+02  5.43259044e+01\n",
      "  1.28681688e+01  1.07105102e+00 -9.02804879e+00  1.07640762e+01\n",
      "  4.60205859e-01  1.49891679e+01  3.07416667e+00  4.78088304e+01\n",
      "  2.48755973e+02  8.76344518e+02  9.02590301e+02  1.00650741e+03\n",
      "  9.32557139e+02  1.34838040e+03  1.14749175e+03  1.64208573e+03\n",
      "  1.26189467e+03  1.60317430e+03  1.43503376e+03  1.51853312e+03\n",
      "  9.04615459e+02  3.99430612e+02  4.01445945e+02  2.12711698e+02\n",
      "  7.46900554e+01  1.68806640e+01  5.59818525e-01  6.96012084e+00\n",
      "  2.96126704e+00  4.96608958e+00  3.10407633e+01  2.10366435e+02\n",
      "  4.06371597e+02  6.36083465e+02  9.87703584e+02  8.74528536e+02\n",
      "  2.00276051e+03  2.60265063e+03  2.71789066e+03  2.91200587e+03\n",
      "  3.27067823e+03  2.54001764e+03  1.75677762e+03  1.09762109e+03\n",
      "  1.11576096e+03  6.90015736e+02  4.04387778e+02  3.82995816e+01\n",
      " -2.86363883e+01 -2.56243409e+00 -6.06698723e-01 -2.91605078e+00\n",
      "  3.40347225e+00 -3.40686034e+00  2.18362263e+01  1.20855243e+02\n",
      "  3.15117372e+02  5.98932815e+02  4.73973842e+02  7.69862426e+02\n",
      "  1.02458936e+03  1.18287553e+03  1.71662925e+03  1.87675816e+03\n",
      "  1.74223918e+03  2.22158645e+03  2.19213651e+03  1.05820222e+03\n",
      "  9.86291389e+02  8.15783905e+02  4.76224950e+02  2.23009075e+02\n",
      "  9.35782392e+01 -2.24203418e+00  2.45080042e+00 -1.18685745e+01\n",
      "  1.68632739e+01  4.64382207e+01  2.37603322e+02  3.84513767e+02\n",
      "  5.64877130e+02  1.91635190e+03  2.82208955e+03  4.16536110e+03\n",
      "  4.92556105e+03  5.25771340e+03  4.97668812e+03  4.71533666e+03\n",
      "  4.80890516e+03  4.11828644e+03  3.58309716e+03  2.80715093e+03\n",
      "  2.17197905e+03  1.20532546e+03  6.58836212e+02  2.87228201e+02\n",
      "  1.27997440e+02  2.26478622e+01 -8.74545280e+00  3.34905484e+00\n",
      " -3.65454945e+01  2.29907957e+01  1.83060017e+02  4.11995857e+02\n",
      "  5.55520755e+02  1.33019984e+03  1.90557881e+03  3.56521543e+03\n",
      "  4.13736475e+03  4.36560591e+03  4.31479737e+03  3.03256602e+03\n",
      "  1.46117419e+03  1.21098688e+03  1.35496069e+03  1.61572408e+03\n",
      "  1.87999919e+03  9.83242750e+02  3.38331584e+02  7.06001283e+01\n",
      "  7.54035232e+01  8.76840634e+00 -2.07391386e+01  1.41580836e+01\n",
      "  5.29396413e+00 -9.62778603e+00  5.49767830e+01  1.73997851e+02\n",
      "  4.31265684e+02  1.18118346e+03  2.05729768e+03  3.59213335e+03\n",
      "  4.43850905e+03  4.62309731e+03  4.01699550e+03  4.67238955e+03\n",
      "  4.24491780e+03  4.14016657e+03  3.40216183e+03  2.96975603e+03\n",
      "  2.27169325e+03  1.24946333e+03  6.56809720e+02  3.60909470e+02\n",
      "  1.48366652e+02  2.40419067e+01 -7.68416760e+00  1.35625391e+01\n",
      "  3.54860163e+00  1.05922227e+01  8.35109088e+01  3.64104542e+02\n",
      "  7.92679793e+02  1.68864501e+03  2.76421303e+03  3.47587454e+03\n",
      "  4.21762649e+03  4.67919184e+03  5.01389471e+03  5.13661448e+03\n",
      "  4.60511786e+03  4.15575136e+03  3.59797135e+03  2.81784468e+03\n",
      "  2.08969361e+03  1.27501755e+03  5.47956784e+02  4.51939274e+02\n",
      "  1.72844857e+02 -5.92394891e+00 -4.59166086e+00 -2.56232612e-01\n",
      " -1.64825059e+01 -1.32512573e+01  1.63392308e+02  5.38869236e+02\n",
      "  6.26324908e+02  1.48046243e+03  2.55630215e+03  4.00251084e+03\n",
      "  4.49254564e+03  4.88546754e+03  5.16072171e+03  4.53751497e+03\n",
      "  3.08153215e+03  3.16279896e+03  2.64015309e+03  2.19402818e+03\n",
      "  1.54187428e+03  7.69170644e+02  3.88378518e+02  2.20907549e+02\n",
      "  5.85848854e+01 -4.24249087e+01 -4.58487400e+00 -2.38913118e+01\n",
      " -2.60051758e+01  4.34209986e+00 -2.04654012e+01  9.72221313e+01\n",
      "  3.18208252e+02  4.84539334e+02  8.72980601e+02  1.41403019e+03\n",
      "  1.35320815e+03  1.02542576e+03  1.58510389e+03  3.27000581e+03\n",
      "  3.48653364e+03  2.83218568e+03  3.64134746e+03  2.61969450e+03\n",
      "  1.76877527e+03  1.34216719e+03  8.49422650e+02  3.87256014e+02\n",
      "  9.21384532e+01  2.65349883e+01 -7.00368384e+01 -7.42006117e+01\n",
      " -1.03876249e+01 -1.97047582e+01  8.96237149e+00  6.38015715e+01\n",
      "  2.14132758e+01  7.43207448e+01  2.84114221e+02  6.67967370e+02\n",
      "  1.28242548e+03  1.67166823e+03  1.70420179e+03  1.14857516e+03\n",
      "  8.23225517e+02  1.36473730e+03  1.46644487e+03  2.31294903e+03\n",
      "  1.48621011e+03  4.43370666e+02  1.57473099e+02  1.09902278e+02\n",
      "  5.53311792e+01 -5.93867442e+00  6.64919193e+00  3.76929195e+00\n",
      " -7.93282120e+00  2.75392748e+01  1.18941778e+02  2.73432922e+02\n",
      "  7.13579015e+02  1.60067769e+03  2.63185358e+03  3.75101121e+03\n",
      "  4.18106374e+03  4.56620872e+03  4.76081650e+03  4.22933785e+03\n",
      "  3.70429112e+03  2.91929307e+03  2.82238901e+03  2.03487382e+03\n",
      "  1.30660328e+03  8.63630915e+02  3.91891709e+02  2.19257423e+02\n",
      " -8.44150420e+00 -4.20470926e+00 -2.71285623e+01 -4.66214826e+01\n",
      " -5.57404887e+01 -3.32702087e+01  1.05338303e+02  4.32117195e+02\n",
      "  7.22312405e+02  1.42932362e+03  1.74883702e+03  3.21506940e+03\n",
      "  4.31285713e+03  4.49079506e+03  4.41016718e+03  4.99639500e+03\n",
      "  4.58595166e+03  4.28014449e+03  3.67544089e+03  2.06244468e+03\n",
      "  1.48278923e+03  1.06945877e+03  5.90390459e+02  4.02481321e+02\n",
      "  6.98858865e+01 -2.90081381e+01 -1.85023095e+01 -2.15709138e+01\n",
      "  4.27882457e+01  4.96208177e+01  6.17347663e+01  2.58954640e+02\n",
      "  2.84717755e+02  3.61464059e+02  8.32297270e+02  8.11675675e+02\n",
      "  1.06810789e+03  1.38101040e+03  1.93783823e+03  1.32146729e+03\n",
      "  1.10318871e+03  7.75375713e+02  7.58661477e+02  1.08516801e+03\n",
      "  4.19694156e+02  3.41983153e+02  1.79385083e+02  1.69553930e+02\n",
      "  1.62047743e+02  5.31736335e+01 -3.11010708e+01 -3.00352340e+01\n",
      "  6.74956898e+00  1.43574512e+00 -3.47005862e+01  1.07117363e+02\n",
      "  1.45816296e+02  3.10575511e+02  5.05147640e+02  7.77681151e+02\n",
      "  7.76686545e+02  5.19074531e+02  5.44817365e+02  6.27745285e+02\n",
      "  8.75111138e+02  6.58107511e+02  7.42097149e+02  8.15407465e+02\n",
      "  7.66463565e+02  6.20197058e+02  3.29026444e+02  1.44508866e+02\n",
      "  3.35400678e+01  6.51227872e-01 -3.74371874e+00  2.61213650e+00\n",
      " -3.86177692e+01 -9.39428285e+00  1.28452673e+02  2.35678012e+02\n",
      "  7.80133933e+02  1.27635178e+03  2.17588667e+03  2.36608529e+03\n",
      "  3.39902559e+03  4.10581416e+03  4.30884245e+03  3.79727279e+03\n",
      "  3.74799296e+03  4.09971773e+03  3.22726883e+03  2.59896941e+03\n",
      "  1.63884901e+03  1.05092770e+03  4.98851116e+02  3.15161968e+02\n",
      "  2.48104541e+01 -7.09928083e+01 -3.21860422e+01 -1.02002599e+01\n",
      "  3.15590966e+00  1.39653478e+01  6.80398611e+01  2.84596194e+02\n",
      "  4.48811111e+02  4.26753211e+02  3.17564430e+02  7.25158321e+02\n",
      "  1.92155859e+03  2.89676254e+03  2.88553343e+03  3.05027723e+03\n",
      "  2.69710968e+03  2.98933684e+03  1.13999235e+03  9.75467299e+02\n",
      "  7.67113266e+02  7.12183473e+02  3.75646236e+02  2.83275847e+02\n",
      "  1.10506627e+02  4.04488240e+01  2.21181166e+01  6.43217125e+01]\n"
     ]
    }
   ],
   "source": [
    "# Do some more stuff\n",
    "\n",
    "X_test_estimated_a = data_clean_up_test(X_test_estimated_a)\n",
    "X_test_estimated_b = data_clean_up_test(X_test_estimated_b)\n",
    "X_test_estimated_c = data_clean_up_test(X_test_estimated_c)\n",
    "\n",
    "y_test_pred_a = model_a.predict(X_test_estimated_a)\n",
    "y_test_pred_b = model_b.predict(X_test_estimated_b)\n",
    "y_test_pred_c = model_c.predict(X_test_estimated_c)\n",
    "\n",
    "print(y_test_pred_a)\n",
    "\n",
    "y_pred = np.concatenate((y_test_pred_a, y_test_pred_b, y_test_pred_c), axis=0)\n"
   ]
  },
  {
   "cell_type": "markdown",
   "metadata": {},
   "source": [
    "# Evaluate prediction"
   ]
  },
  {
   "cell_type": "code",
   "execution_count": 66,
   "metadata": {},
   "outputs": [
    {
     "name": "stdout",
     "output_type": "stream",
     "text": [
      "RMSE: 390.87232784835953\n"
     ]
    }
   ],
   "source": [
    "# Evaluate the model\n",
    "\n",
    "\n",
    "valid_pred = model_a.predict(x_valid_split_a)\n",
    "\n",
    "rmse = np.sqrt(mean_squared_error(y_valid_split_a, valid_pred))\n",
    "print(f'RMSE: {rmse}')\n"
   ]
  },
  {
   "cell_type": "code",
   "execution_count": 67,
   "metadata": {},
   "outputs": [
    {
     "data": {
      "text/plain": [
       "[<matplotlib.lines.Line2D at 0x28ad65390>]"
      ]
     },
     "execution_count": 67,
     "metadata": {},
     "output_type": "execute_result"
    },
    {
     "data": {
      "image/png": "[encoded data removed]",
      "text/plain": [
       "<Figure size 640x480 with 1 Axes>"
      ]
     },
     "metadata": {},
     "output_type": "display_data"
    }
   ],
   "source": [
    "plt.plot(y_pred, label='true')"
   ]
  },
  {
   "cell_type": "markdown",
   "metadata": {},
   "source": [
    "# Create submission"
   ]
  },
  {
   "cell_type": "code",
   "execution_count": 68,
   "metadata": {},
   "outputs": [],
   "source": [
    "y_test_pred = y_pred\n",
    "\n",
    "test = pd.read_csv('../data/test.csv')\n",
    "test['prediction'] = y_test_pred\n",
    "sample_submission = pd.read_csv('../data/sample_submission.csv')\n",
    "submission = sample_submission[['id']].merge(test[['id', 'prediction']], on='id', how='left')\n",
    "submission.to_csv('submission.csv', index=False)"
   ]
  }
 ],
 "metadata": {
  "kernelspec": {
   "display_name": "Python 3",
   "language": "python",
   "name": "python3"
  },
  "language_info": {
   "codemirror_mode": {
    "name": "ipython",
    "version": 3
   },
   "file_extension": ".py",
   "mimetype": "text/x-python",
   "name": "python",
   "nbconvert_exporter": "python",
   "pygments_lexer": "ipython3",
   "version": "3.10.9"
  },
  "orig_nbformat": 4
 },
 "nbformat": 4,
 "nbformat_minor": 2
}
