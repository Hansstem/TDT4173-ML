{
 "cells": [
  {
   "cell_type": "markdown",
   "metadata": {},
   "source": [
    "# Domain knowledge\n",
    "\n",
    "We know this and this. Many aspects of weather can influence energy production..."
   ]
  },
  {
   "cell_type": "markdown",
   "metadata": {},
   "source": [
    "# Data intuitivity\n",
    "\n",
    "Data seems intuitive at first sight, however we will see some features are of less value as you will see in **Individual features**. *Plot some stuff*"
   ]
  },
  {
   "cell_type": "markdown",
   "metadata": {},
   "source": [
    "# Individual features\n",
    "\n",
    "This and this..."
   ]
  },
  {
   "cell_type": "markdown",
   "metadata": {},
   "source": [
    "# Group of features\n",
    "\n",
    "These features have a lot to do with each other, however bla bla."
   ]
  }
 ],
 "metadata": {
  "language_info": {
   "name": "python"
  },
  "orig_nbformat": 4
 },
 "nbformat": 4,
 "nbformat_minor": 2
}
