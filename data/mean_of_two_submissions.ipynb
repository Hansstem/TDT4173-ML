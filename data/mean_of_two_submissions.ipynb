{
 "cells": [
  {
   "cell_type": "code",
   "execution_count": 4,
   "metadata": {},
   "outputs": [],
   "source": [
    "\"\"\"\n",
    "    This notebook is used to calculate the mean of two submissions.\n",
    "    The function takes in two names of the submission files and creates a new submission file with the mean of the two.\n",
    "\"\"\"\n",
    "import pandas as pd\n",
    "\n",
    "path = \"../model_notebooks/submissions/\"\n",
    "def mean_of_two_submissions(submission1, submission2, new_submission):\n",
    "    submission1 = pd.read_csv(path + submission1)\n",
    "    submission2 = pd.read_csv(path + submission2)\n",
    "    submission1['prediction'] = (submission1['prediction'] + submission2['prediction'])/2\n",
    "    submission1.to_csv(new_submission, index=False)\n",
    "\n",
    "mean_of_two_submissions(\"submission_cat_148LESSSSGO.csv\", 'autogluon_med_300_full_submission.csv', path +\"submission_cat+ag.csv\")\n"
   ]
  }
 ],
 "metadata": {
  "kernelspec": {
   "display_name": "base",
   "language": "python",
   "name": "python3"
  },
  "language_info": {
   "codemirror_mode": {
    "name": "ipython",
    "version": 3
   },
   "file_extension": ".py",
   "mimetype": "text/x-python",
   "name": "python",
   "nbconvert_exporter": "python",
   "pygments_lexer": "ipython3",
   "version": "3.10.9"
  }
 },
 "nbformat": 4,
 "nbformat_minor": 2
}
