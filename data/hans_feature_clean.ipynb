{
 "cells": [
  {
   "cell_type": "code",
   "execution_count": 5,
   "metadata": {},
   "outputs": [],
   "source": [
    "import pandas as pd"
   ]
  },
  {
   "cell_type": "code",
   "execution_count": 6,
   "metadata": {},
   "outputs": [],
   "source": [
    "A_test_estimated = pd.read_parquet('A/X_test_estimated.parquet')\n",
    "B_test_estimated = pd.read_parquet('B/X_test_estimated.parquet')\n",
    "C_test_estimated = pd.read_parquet('C/X_test_estimated.parquet')\n",
    "\n",
    "A_train_observed = pd.read_parquet('A/X_train_observed.parquet')\n",
    "B_train_observed = pd.read_parquet('B/X_train_observed.parquet')\n",
    "C_train_observed = pd.read_parquet('C/X_train_observed.parquet')\n",
    "\n",
    "A_train_estimated = pd.read_parquet('A/X_train_estimated.parquet')\n",
    "B_train_estimated = pd.read_parquet('B/X_train_estimated.parquet')\n",
    "C_train_estimated = pd.read_parquet('C/X_train_estimated.parquet')\n"
   ]
  },
  {
   "cell_type": "code",
   "execution_count": 7,
   "metadata": {},
   "outputs": [
    {
     "data": {
      "text/plain": [
       "((2880, 47), (2880, 47), (2880, 47))"
      ]
     },
     "execution_count": 7,
     "metadata": {},
     "output_type": "execute_result"
    }
   ],
   "source": [
    "def columnsToDrop(df):\n",
    "    columns_to_drop = [\n",
    "    'wind_speed_10m:ms',\n",
    "    'wind_speed_u_10m:ms',\n",
    "    'wind_speed_v_10m:ms',\n",
    "    'wind_speed_w_1000hPa:ms',\n",
    "    'snow_density:kgm3',\n",
    "    'snow_melt_10min:mm',\n",
    "    'snow_drift:idx'\n",
    "    ]\n",
    "    df = df.drop(columns=columns_to_drop)\n",
    "    return df\n",
    "# I dataset på loc 24 og 7, så my vi droppe alt fra 2022-05 til 2022-11\n",
    "\n",
    "A_test_estimated = columnsToDrop(A_test_estimated)\n",
    "B_test_estimated = columnsToDrop(B_test_estimated)\n",
    "C_test_estimated = columnsToDrop(C_test_estimated)\n",
    "\n",
    "A_train_observed = columnsToDrop(A_train_observed)\n",
    "B_train_observed = columnsToDrop(B_train_observed)\n",
    "C_train_observed = columnsToDrop(C_train_observed)\n",
    "\n",
    "A_train_estimated = columnsToDrop(A_train_estimated)\n",
    "B_train_estimated = columnsToDrop(B_train_estimated)\n",
    "C_train_estimated = columnsToDrop(C_train_estimated)\n",
    "\n",
    "\n",
    "A_test_estimated.shape, B_test_estimated.shape, C_test_estimated.shape"
   ]
  },
  {
   "cell_type": "code",
   "execution_count": 8,
   "metadata": {},
   "outputs": [
    {
     "name": "stdout",
     "output_type": "stream",
     "text": [
      "Dataframes:\n"
     ]
    },
    {
     "data": {
      "text/html": [
       "<div>\n",
       "<style scoped>\n",
       "    .dataframe tbody tr th:only-of-type {\n",
       "        vertical-align: middle;\n",
       "    }\n",
       "\n",
       "    .dataframe tbody tr th {\n",
       "        vertical-align: top;\n",
       "    }\n",
       "\n",
       "    .dataframe thead th {\n",
       "        text-align: right;\n",
       "    }\n",
       "</style>\n",
       "<table border=\"1\" class=\"dataframe\">\n",
       "  <thead>\n",
       "    <tr style=\"text-align: right;\">\n",
       "      <th></th>\n",
       "      <th>A</th>\n",
       "      <th>B</th>\n",
       "      <th>C</th>\n",
       "    </tr>\n",
       "  </thead>\n",
       "  <tbody>\n",
       "    <tr>\n",
       "      <th>0</th>\n",
       "      <td>1</td>\n",
       "      <td>2</td>\n",
       "      <td>3</td>\n",
       "    </tr>\n",
       "    <tr>\n",
       "      <th>1</th>\n",
       "      <td>4</td>\n",
       "      <td>5</td>\n",
       "      <td>6</td>\n",
       "    </tr>\n",
       "    <tr>\n",
       "      <th>2</th>\n",
       "      <td>7</td>\n",
       "      <td>8</td>\n",
       "      <td>9</td>\n",
       "    </tr>\n",
       "  </tbody>\n",
       "</table>\n",
       "</div>"
      ],
      "text/plain": [
       "   A  B  C\n",
       "0  1  2  3\n",
       "1  4  5  6\n",
       "2  7  8  9"
      ]
     },
     "metadata": {},
     "output_type": "display_data"
    },
    {
     "data": {
      "text/html": [
       "<div>\n",
       "<style scoped>\n",
       "    .dataframe tbody tr th:only-of-type {\n",
       "        vertical-align: middle;\n",
       "    }\n",
       "\n",
       "    .dataframe tbody tr th {\n",
       "        vertical-align: top;\n",
       "    }\n",
       "\n",
       "    .dataframe thead th {\n",
       "        text-align: right;\n",
       "    }\n",
       "</style>\n",
       "<table border=\"1\" class=\"dataframe\">\n",
       "  <thead>\n",
       "    <tr style=\"text-align: right;\">\n",
       "      <th></th>\n",
       "      <th>A</th>\n",
       "      <th>C</th>\n",
       "    </tr>\n",
       "  </thead>\n",
       "  <tbody>\n",
       "    <tr>\n",
       "      <th>0</th>\n",
       "      <td>3</td>\n",
       "      <td>4</td>\n",
       "    </tr>\n",
       "    <tr>\n",
       "      <th>1</th>\n",
       "      <td>5</td>\n",
       "      <td>6</td>\n",
       "    </tr>\n",
       "  </tbody>\n",
       "</table>\n",
       "</div>"
      ],
      "text/plain": [
       "   A  C\n",
       "0  3  4\n",
       "1  5  6"
      ]
     },
     "metadata": {},
     "output_type": "display_data"
    },
    {
     "name": "stdout",
     "output_type": "stream",
     "text": [
      "After merging:\n"
     ]
    },
    {
     "data": {
      "text/html": [
       "<div>\n",
       "<style scoped>\n",
       "    .dataframe tbody tr th:only-of-type {\n",
       "        vertical-align: middle;\n",
       "    }\n",
       "\n",
       "    .dataframe tbody tr th {\n",
       "        vertical-align: top;\n",
       "    }\n",
       "\n",
       "    .dataframe thead th {\n",
       "        text-align: right;\n",
       "    }\n",
       "</style>\n",
       "<table border=\"1\" class=\"dataframe\">\n",
       "  <thead>\n",
       "    <tr style=\"text-align: right;\">\n",
       "      <th></th>\n",
       "      <th>A</th>\n",
       "      <th>B</th>\n",
       "      <th>C</th>\n",
       "    </tr>\n",
       "  </thead>\n",
       "  <tbody>\n",
       "    <tr>\n",
       "      <th>0</th>\n",
       "      <td>1</td>\n",
       "      <td>2.0</td>\n",
       "      <td>3</td>\n",
       "    </tr>\n",
       "    <tr>\n",
       "      <th>1</th>\n",
       "      <td>4</td>\n",
       "      <td>5.0</td>\n",
       "      <td>6</td>\n",
       "    </tr>\n",
       "    <tr>\n",
       "      <th>2</th>\n",
       "      <td>7</td>\n",
       "      <td>8.0</td>\n",
       "      <td>9</td>\n",
       "    </tr>\n",
       "    <tr>\n",
       "      <th>0</th>\n",
       "      <td>3</td>\n",
       "      <td>NaN</td>\n",
       "      <td>4</td>\n",
       "    </tr>\n",
       "    <tr>\n",
       "      <th>1</th>\n",
       "      <td>5</td>\n",
       "      <td>NaN</td>\n",
       "      <td>6</td>\n",
       "    </tr>\n",
       "  </tbody>\n",
       "</table>\n",
       "</div>"
      ],
      "text/plain": [
       "   A    B  C\n",
       "0  1  2.0  3\n",
       "1  4  5.0  6\n",
       "2  7  8.0  9\n",
       "0  3  NaN  4\n",
       "1  5  NaN  6"
      ]
     },
     "execution_count": 8,
     "metadata": {},
     "output_type": "execute_result"
    }
   ],
   "source": [
    "# import module \n",
    "\n",
    "# assign dataframes \n",
    "data1 = pd.DataFrame([[1, 2, 3], [4, 5, 6], [7, 8, 9]], \n",
    "\t\t\t\t\tcolumns=['A', 'B', 'C']) \n",
    "\n",
    "data2 = pd.DataFrame([[3, 4], [5, 6]], \n",
    "\t\t\t\t\tcolumns=['A', 'C']) \n",
    "\n",
    "# display dataframes \n",
    "print('Dataframes:') \n",
    "display(data1) \n",
    "display(data2) \n",
    "\n",
    "# merge two data frames \n",
    "print('After merging:') \n",
    "pd.concat([data1, data2], axis=0) \n"
   ]
  }
 ],
 "metadata": {
  "kernelspec": {
   "display_name": "Python 3",
   "language": "python",
   "name": "python3"
  },
  "language_info": {
   "codemirror_mode": {
    "name": "ipython",
    "version": 3
   },
   "file_extension": ".py",
   "mimetype": "text/x-python",
   "name": "python",
   "nbconvert_exporter": "python",
   "pygments_lexer": "ipython3",
   "version": "3.10.9"
  },
  "orig_nbformat": 4
 },
 "nbformat": 4,
 "nbformat_minor": 2
}
