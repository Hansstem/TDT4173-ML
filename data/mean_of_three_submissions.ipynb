{
 "cells": [
  {
   "cell_type": "code",
   "execution_count": 4,
   "metadata": {},
   "outputs": [],
   "source": [
    "\"\"\"\n",
    "    This notebook is used to calculate the mean of two submissions.\n",
    "    The function takes in two names of the submission files and creates a new submission file with the mean of the two.\n",
    "\"\"\"\n",
    "import pandas as pd\n",
    "\n",
    "path = \"../model_notebooks/submissions/\"\n",
    "def prediction_above10(submission: pd.DataFrame):\n",
    "    submission.loc[submission['prediction'] < 10, 'prediction'] = 0\n",
    "    return submission\n",
    "\n",
    "\n",
    "def mean_of_three_submissions(submission1, submission2, submission3, new_submission):\n",
    "    submission1 = pd.read_csv(path + submission1)\n",
    "    submission2 = pd.read_csv(path + submission2)\n",
    "    submission3 = pd.read_csv(path + submission3)\n",
    "\n",
    "\n",
    "    submission1['prediction'] = (submission1['prediction'] + submission2['prediction'] + submission3['prediction'])/3\n",
    "    submission1 = prediction_above10(submission1)\n",
    "    submission1.to_csv(new_submission, index=False)\n",
    "\n",
    "def mean_with_weights(submission1, submission2, submission3, new_submission, weight1, weight2, weight3):\n",
    "    submission1 = pd.read_csv(path + submission1)\n",
    "    submission2 = pd.read_csv(path + submission2)\n",
    "    submission3 = pd.read_csv(path + submission3)\n",
    "\n",
    "\n",
    "    submission1['prediction'] = submission1['prediction']*weight1 + submission2['prediction']*weight2 + submission3['prediction']*weight3\n",
    "    submission1 = prediction_above10(submission1)\n",
    "    submission1.to_csv(new_submission, index=False)\n",
    "\n",
    "\n",
    "mean_with_weights(\"submission_cat_147SUI.csv\", 'autogluon_med_300_full_submission_146.csv', \"submission_xg153.csv\", path + \"submission_weighted_147_cat_146_ag_153_xg.csv\", 0.4, 0.4, 0.2)\n",
    "\n",
    "weight1 = 0.65\n",
    "weight2 = 0.35\n",
    "\n"
   ]
  }
 ],
 "metadata": {
  "kernelspec": {
   "display_name": "base",
   "language": "python",
   "name": "python3"
  },
  "language_info": {
   "codemirror_mode": {
    "name": "ipython",
    "version": 3
   },
   "file_extension": ".py",
   "mimetype": "text/x-python",
   "name": "python",
   "nbconvert_exporter": "python",
   "pygments_lexer": "ipython3",
   "version": "3.9.6"
  }
 },
 "nbformat": 4,
 "nbformat_minor": 2
}
